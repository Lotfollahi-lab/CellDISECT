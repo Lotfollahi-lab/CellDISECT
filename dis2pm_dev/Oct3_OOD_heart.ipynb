{
 "cells": [
  {
   "cell_type": "code",
   "execution_count": 2,
   "id": "298b9b72-5c19-46cb-90cf-8af0310dac21",
   "metadata": {},
   "outputs": [
    {
     "name": "stderr",
     "output_type": "stream",
     "text": [
      "Global seed set to 0\n"
     ]
    },
    {
     "name": "stdout",
     "output_type": "stream",
     "text": [
      "The autoreload extension is already loaded. To reload it, use:\n",
      "  %reload_ext autoreload\n"
     ]
    }
   ],
   "source": [
    "# enable autoreload\n",
    "%load_ext autoreload\n",
    "%autoreload 2\n",
    "%matplotlib inline\n",
    "%reload_ext autoreload\n",
    "\n",
    "import os\n",
    "os.environ['PROTOCOL_BUFFERS_PYTHON_IMPLEMENTATION']='python'\n",
    "\n",
    "import scvi\n",
    "scvi.settings.seed = 0\n",
    "import scanpy as sc\n",
    "import anndata as ad\n",
    "import torch\n",
    "import numpy as np\n",
    "import pandas as pd\n",
    "import json\n",
    "from datetime import datetime\n",
    "from scipy.sparse import csr_matrix\n",
    "torch.set_float32_matmul_precision('medium')\n",
    "import warnings\n",
    "warnings.simplefilter(\"ignore\", UserWarning)\n",
    "from sklearn.model_selection import train_test_split\n",
    "import random\n",
    "\n",
    "# import from scfair-reproducibility\n",
    "from scfair_reproducibility.benchmark_VAE.vi import VI\n",
    "from scfair_reproducibility.evaluation.metrics import *\n",
    "\n",
    "# import from scib_metrics\n",
    "from scfair_reproducibility.scib_metrics_dev.src.scib_metrics.benchmark import Benchmarker\n",
    "\n",
    "# other methods\n",
    "# import cpa\n",
    "# from data.biolord_dev.src import biolord\n"
   ]
  },
  {
   "cell_type": "code",
   "execution_count": 3,
   "id": "d5cf66d0-3d83-4c3b-9876-097b0d5efca2",
   "metadata": {},
   "outputs": [],
   "source": [
    "from dis2p.dis2pvae import *\n",
    "from dis2p.dis2pvi import *\n",
    "from dis2p.ood import *\n",
    "from dis2p.trainingplan import *\n",
    "from dis2p.utils import *\n"
   ]
  },
  {
   "cell_type": "code",
   "execution_count": 4,
   "id": "d28f1395-f18d-4ddd-b3ae-b3323e878f7b",
   "metadata": {},
   "outputs": [
    {
     "name": "stdout",
     "output_type": "stream",
     "text": [
      "\u001b[34mINFO    \u001b[0m File data/hca_subsampled_20k.h5ad already downloaded                                                      \n"
     ]
    },
    {
     "name": "stderr",
     "output_type": "stream",
     "text": [
      "/home/jupyter/analysis/dis2p_trials/scfair_20231003/scfair_dev_20231003_env/lib/python3.10/site-packages/anndata/_core/anndata.py:1113: FutureWarning: is_categorical_dtype is deprecated and will be removed in a future version. Use isinstance(dtype, CategoricalDtype) instead\n",
      "  if not is_categorical_dtype(df_full[k]):\n",
      "/home/jupyter/analysis/dis2p_trials/scfair_20231003/scfair_dev_20231003_env/lib/python3.10/site-packages/anndata/_core/anndata.py:1113: FutureWarning: is_categorical_dtype is deprecated and will be removed in a future version. Use isinstance(dtype, CategoricalDtype) instead\n",
      "  if not is_categorical_dtype(df_full[k]):\n"
     ]
    }
   ],
   "source": [
    "# load dataset\n",
    "adata = scvi.data.heart_cell_atlas_subsampled()\n",
    "\n",
    "# preprocess dataset\n",
    "sc.pp.filter_genes(adata, min_counts=3)\n",
    "adata.layers[\"counts\"] = adata.X.copy()\n",
    "sc.pp.normalize_total(adata, target_sum=1e4)\n",
    "sc.pp.log1p(adata)\n",
    "adata.raw = adata\n",
    "sc.pp.highly_variable_genes(\n",
    "    adata,\n",
    "    n_top_genes=1200,\n",
    "    subset=True,\n",
    "    layer=\"counts\",\n",
    "    flavor=\"seurat_v3\",\n",
    ")\n",
    "\n",
    "# specify name of dataset \n",
    "data_name = 'HeartAtlas'\n",
    "\n",
    "# specify attributes\n",
    "cats = ['cell_type', 'cell_source', 'gender', 'region']\n",
    "\n",
    "# create numerical index for each attr in cats\n",
    "create_cats_idx(adata, cats)\n",
    "\n",
    "# save adata\n",
    "adata.write_h5ad('data/heart_preprocessed1200.h5ad')\n",
    "\n",
    "today = datetime.today().strftime('%Y-%m-%d')"
   ]
  },
  {
   "cell_type": "code",
   "execution_count": 5,
   "id": "82784446-476c-460e-b6d5-7b38ae8b864d",
   "metadata": {},
   "outputs": [],
   "source": [
    "adata = ad.read('data/heart_preprocessed1200.h5ad')\n",
    "\n",
    "# specify name of dataset \n",
    "data_name = 'HeartAtlas'\n",
    "\n",
    "# specify attributes\n",
    "cats = ['cell_type', 'cell_source', 'gender', 'region']\n",
    "\n",
    "# create numerical index for each attr in cats\n",
    "create_cats_idx(adata, cats)\n",
    "\n",
    "today = datetime.today().strftime('%Y-%m-%d')"
   ]
  },
  {
   "cell_type": "code",
   "execution_count": 6,
   "id": "600e4fbf-dc5f-42a9-962c-067a17d6490e",
   "metadata": {},
   "outputs": [
    {
     "name": "stderr",
     "output_type": "stream",
     "text": [
      "/home/jupyter/analysis/dis2p_trials/scfair_20231003/scfair_dev_20231003_env/lib/python3.10/site-packages/anndata/_core/anndata.py:1113: FutureWarning: is_categorical_dtype is deprecated and will be removed in a future version. Use isinstance(dtype, CategoricalDtype) instead\n",
      "  if not is_categorical_dtype(df_full[k]):\n",
      "/var/tmp/ipykernel_12724/448121039.py:16: FutureWarning: Series.__getitem__ treating keys as positions is deprecated. In a future version, integer keys will always be treated as labels (consistent with DataFrame behavior). To access a value by position, use `ser.iloc[pos]`\n",
      "  cov_value_i = adata[i].obs[cov_name][0]\n",
      "/var/tmp/ipykernel_12724/448121039.py:18: FutureWarning: Series.__getitem__ treating keys as positions is deprecated. In a future version, integer keys will always be treated as labels (consistent with DataFrame behavior). To access a value by position, use `ser.iloc[pos]`\n",
      "  if all(adata[i].obs[c][0] == other_covs_values[k] for k, c in enumerate(other_cats)):\n"
     ]
    }
   ],
   "source": [
    "cov_name = 'gender'\n",
    "other_covs_values = ('Ventricular_Cardiomyocyte', 'Sanger-Nuclei', 'RV')\n",
    "cov_value = 'Male'\n",
    "cov_value_cf = 'Female'\n",
    "\n",
    "other_cats = [c for c in cats if c != cov_name]\n",
    "\n",
    "train_idx = []\n",
    "val_idx = []\n",
    "train_val_idx = []\n",
    "ood_idx = []\n",
    "source_ood_idx = []\n",
    "target_ood_idx = []\n",
    "\n",
    "for i in range(adata.n_obs):\n",
    "    cov_value_i = adata[i].obs[cov_name][0]\n",
    "\n",
    "    if all(adata[i].obs[c][0] == other_covs_values[k] for k, c in enumerate(other_cats)):\n",
    "        ood_idx.append(i)\n",
    "        if cov_value_i == cov_value_cf:\n",
    "            target_ood_idx.append(i)\n",
    "        elif cov_value_i == cov_value:\n",
    "            source_ood_idx.append(i)\n",
    "    else:\n",
    "        train_val_idx.append(i)\n",
    "        \n",
    "train_idx, val_idx = train_test_split(train_val_idx, test_size=0.2)\n",
    "\n",
    "adata_train = adata[train_idx].copy()\n",
    "adata_valid = adata[val_idx].copy()\n",
    "adata_train_val = adata[train_idx + val_idx].copy()\n",
    "adata_ood = adata[ood_idx].copy()\n",
    "\n",
    "source_adata = adata[source_ood_idx].copy()\n",
    "target_adata = adata[target_ood_idx].copy()\n",
    "\n",
    "# add split_key\n",
    "split_list = []\n",
    "for i in range(adata.n_obs):\n",
    "    if i in train_idx:\n",
    "        split_list.append('train')\n",
    "    elif i in val_idx:\n",
    "        split_list.append('test')\n",
    "    else:\n",
    "        split_list.append('ood')\n",
    "    \n",
    "split_key = 'split'\n",
    "adata.obs[split_key] = pd.Categorical(split_list)"
   ]
  },
  {
   "cell_type": "code",
   "execution_count": 7,
   "id": "89895b37-f144-419c-9989-4fd5ba88a742",
   "metadata": {},
   "outputs": [
    {
     "data": {
      "text/plain": [
       "AnnData object with n_obs × n_vars = 18641 × 1200\n",
       "    obs: 'NRP', 'age_group', 'cell_source', 'cell_type', 'donor', 'gender', 'n_counts', 'n_genes', 'percent_mito', 'percent_ribo', 'region', 'sample', 'scrublet_score', 'source', 'type', 'version', 'cell_states', 'Used', 'cell_type_idx', 'cell_source_idx', 'gender_idx', 'region_idx', 'split'\n",
       "    var: 'gene_ids-Harvard-Nuclei', 'feature_types-Harvard-Nuclei', 'gene_ids-Sanger-Nuclei', 'feature_types-Sanger-Nuclei', 'gene_ids-Sanger-Cells', 'feature_types-Sanger-Cells', 'gene_ids-Sanger-CD45', 'feature_types-Sanger-CD45', 'n_counts', 'highly_variable', 'highly_variable_rank', 'means', 'variances', 'variances_norm'\n",
       "    uns: 'cell_type_colors', 'hvg', 'log1p'\n",
       "    layers: 'counts'"
      ]
     },
     "execution_count": 7,
     "metadata": {},
     "output_type": "execute_result"
    }
   ],
   "source": [
    "adata"
   ]
  },
  {
   "cell_type": "code",
   "execution_count": 7,
   "id": "cb077046-70ee-4e5e-af14-a4b18f860498",
   "metadata": {},
   "outputs": [],
   "source": [
    "true_x_count = torch.tensor(adata.layers[\"counts\"][target_ood_idx].toarray())\n",
    "true_x_counts_mean = torch.mean(true_x_count, dim=0)\n",
    "\n",
    "true_x_counts_variance = torch.sub(true_x_count, true_x_counts_mean)\n",
    "true_x_counts_variance = torch.pow(true_x_counts_variance, 2)\n",
    "true_x_counts_variance = torch.mean(true_x_counts_variance, dim=0)\n",
    "\n",
    "true_x_counts_mean, true_x_counts_variance = true_x_counts_mean.to('cpu'), true_x_counts_variance.to('cpu')"
   ]
  },
  {
   "cell_type": "markdown",
   "id": "bae126bd-6f70-4f13-9d9c-962719918965",
   "metadata": {},
   "source": [
    "# dis2p"
   ]
  },
  {
   "cell_type": "code",
   "execution_count": 8,
   "id": "6b8feccf-19e4-443e-9e05-4edb19b93c22",
   "metadata": {},
   "outputs": [],
   "source": [
    "from dis2p.dis2pvi import Dis2pVI\n",
    "from dis2p.ood import *"
   ]
  },
  {
   "cell_type": "code",
   "execution_count": null,
   "id": "24444a10-b3cf-471e-be40-acdd51808525",
   "metadata": {},
   "outputs": [],
   "source": []
  },
  {
   "cell_type": "code",
   "execution_count": null,
   "id": "44cd4cd8-3465-4332-bd26-6d5753dbe02a",
   "metadata": {},
   "outputs": [],
   "source": []
  },
  {
   "cell_type": "code",
   "execution_count": null,
   "id": "9cdcbb14-37f2-4701-9624-268ab20bd162",
   "metadata": {},
   "outputs": [],
   "source": []
  },
  {
   "cell_type": "code",
   "execution_count": null,
   "id": "fd3e899d-11f5-4fc2-916e-5e469ff337ea",
   "metadata": {},
   "outputs": [],
   "source": []
  },
  {
   "cell_type": "code",
   "execution_count": null,
   "id": "e003caa6-eded-4d46-954f-1e94835f33f6",
   "metadata": {},
   "outputs": [],
   "source": []
  },
  {
   "cell_type": "markdown",
   "id": "eaba64f1-3c59-410f-8b15-fa022a9c5fc7",
   "metadata": {},
   "source": [
    "# CPA (improve)"
   ]
  },
  {
   "cell_type": "code",
   "execution_count": 9,
   "id": "03a905b6-5e08-4d9c-8313-e318fb2e2c4a",
   "metadata": {},
   "outputs": [
    {
     "name": "stdout",
     "output_type": "stream",
     "text": [
      "Warning: dosage_key is not set. Setting it to \"1.0\" for all cells\n"
     ]
    },
    {
     "name": "stderr",
     "output_type": "stream",
     "text": [
      "100%|██████████| 18641/18641 [00:00<00:00, 121421.01it/s]\n",
      "100%|██████████| 18641/18641 [00:00<00:00, 1136259.57it/s]\n"
     ]
    },
    {
     "name": "stdout",
     "output_type": "stream",
     "text": [
      "\u001b[34mINFO    \u001b[0m Generating sequential column names                                                                        \n",
      "\u001b[34mINFO    \u001b[0m Generating sequential column names                                                                        \n"
     ]
    }
   ],
   "source": [
    "perturbation_key = cov_name\n",
    "control_group = cov_value\n",
    "\n",
    "adata_cpa = adata.copy()\n",
    "adata_cpa.X = adata.layers['counts']\n",
    "\n",
    "cpa.CPA.setup_anndata(adata_cpa,\n",
    "                    perturbation_key=perturbation_key,\n",
    "                    control_group=control_group,\n",
    "                    categorical_covariate_keys=[c for c in cats if c != cov_name],\n",
    "                    )"
   ]
  },
  {
   "cell_type": "code",
   "execution_count": 73,
   "id": "e3d88b80-f54f-4bc3-aa9b-49e3c89f26b4",
   "metadata": {},
   "outputs": [
    {
     "name": "stderr",
     "output_type": "stream",
     "text": [
      "Global seed set to 0\n",
      "\n",
      "100%|██████████| 2/2 [00:00<00:00, 44.24it/s]\n",
      "GPU available: True (cuda), used: True\n",
      "TPU available: False, using: 0 TPU cores\n",
      "IPU available: False, using: 0 IPUs\n",
      "HPU available: False, using: 0 HPUs\n",
      "LOCAL_RANK: 0 - CUDA_VISIBLE_DEVICES: [MIG-GPU-8391e223-da74-0458-e121-783edc78bf21/0/0]\n"
     ]
    },
    {
     "name": "stdout",
     "output_type": "stream",
     "text": [
      "Epoch 10/1000:   1%|          | 9/1000 [00:38<1:09:27,  4.21s/it, v_num=1, recon=326, r2_mean=0.344, adv_loss=5.89, acc_pert=0.577, acc_cell_type=0.529, acc_cell_source=0.537, acc_gender=0.572, acc_region=0.219]"
     ]
    },
    {
     "name": "stderr",
     "output_type": "stream",
     "text": [
      "\n",
      "Epoch 00009: cpa_metric reached. Module best state updated.\n"
     ]
    },
    {
     "name": "stdout",
     "output_type": "stream",
     "text": [
      "\n",
      "disnt_basal = 2.496627859568155\n",
      "disnt_after = 3.6692862435301596\n",
      "val_r2_mean = 0.32186472386463355\n",
      "val_r2_var = 0.0733192572486312\n",
      "Epoch 20/1000:   2%|▏         | 19/1000 [01:21<1:08:13,  4.17s/it, v_num=1, recon=305, r2_mean=0.47, adv_loss=4.88, acc_pert=0.598, acc_cell_type=0.771, acc_cell_source=0.609, acc_gender=0.585, acc_region=0.258, val_recon=329, disnt_basal=2.5, disnt_after=3.67, val_r2_mean=0.322, val_KL=nan] \n",
      "disnt_basal = 2.5454246488975527\n",
      "disnt_after = 3.5913274241722286\n",
      "val_r2_mean = 0.4606754502733993\n",
      "val_r2_var = 0.10471718281483648\n",
      "Epoch 30/1000:   3%|▎         | 29/1000 [02:04<1:08:34,  4.24s/it, v_num=1, recon=297, r2_mean=0.519, adv_loss=4.39, acc_pert=0.617, acc_cell_type=0.822, acc_cell_source=0.663, acc_gender=0.607, acc_region=0.286, val_recon=309, disnt_basal=2.55, disnt_after=3.59, val_r2_mean=0.461, val_KL=nan]\n",
      "disnt_basal = 2.5618639891165618\n",
      "disnt_after = 3.4853004998567663\n",
      "val_r2_mean = 0.5133225529705658\n",
      "val_r2_var = 0.1293189911784183\n",
      "Epoch 40/1000:   4%|▍         | 39/1000 [02:48<1:07:39,  4.22s/it, v_num=1, recon=293, r2_mean=0.543, adv_loss=4.18, acc_pert=0.614, acc_cell_type=0.837, acc_cell_source=0.703, acc_gender=0.62, acc_region=0.29, val_recon=300, disnt_basal=2.56, disnt_after=3.49, val_r2_mean=0.513, val_KL=nan]  \n",
      "disnt_basal = 2.5209449879999126\n",
      "disnt_after = 3.3566562582520327\n",
      "val_r2_mean = 0.5409017420034793\n",
      "val_r2_var = 0.15523104880206756\n",
      "Epoch 50/1000:   5%|▍         | 49/1000 [03:32<1:06:54,  4.22s/it, v_num=1, recon=289, r2_mean=0.561, adv_loss=4.13, acc_pert=0.618, acc_cell_type=0.834, acc_cell_source=0.696, acc_gender=0.624, acc_region=0.292, val_recon=295, disnt_basal=2.52, disnt_after=3.36, val_r2_mean=0.541, val_KL=nan]\n",
      "disnt_basal = 2.452739675298025\n",
      "disnt_after = 3.2284931706719755\n",
      "val_r2_mean = 0.5511308665476261\n",
      "val_r2_var = 0.16518394202327766\n",
      "Epoch 60/1000:   6%|▌         | 59/1000 [04:15<1:06:22,  4.23s/it, v_num=1, recon=287, r2_mean=0.571, adv_loss=4.08, acc_pert=0.615, acc_cell_type=0.842, acc_cell_source=0.695, acc_gender=0.627, acc_region=0.302, val_recon=293, disnt_basal=2.45, disnt_after=3.23, val_r2_mean=0.551, val_KL=nan]\n",
      "disnt_basal = 2.4481435840337005\n",
      "disnt_after = 3.1663361818107925\n",
      "val_r2_mean = 0.5647482885585928\n",
      "val_r2_var = 0.17013609985460384\n",
      "Epoch 70/1000:   7%|▋         | 69/1000 [04:59<1:05:44,  4.24s/it, v_num=1, recon=286, r2_mean=0.582, adv_loss=4.03, acc_pert=0.623, acc_cell_type=0.841, acc_cell_source=0.701, acc_gender=0.64, acc_region=0.3, val_recon=291, disnt_basal=2.45, disnt_after=3.17, val_r2_mean=0.565, val_KL=nan]   \n",
      "disnt_basal = 2.4142144568432684\n",
      "disnt_after = 3.101525186377807\n",
      "val_r2_mean = 0.569071421726432\n",
      "val_r2_var = 0.17447002164916833\n",
      "Epoch 80/1000:   8%|▊         | 79/1000 [05:43<1:05:06,  4.24s/it, v_num=1, recon=284, r2_mean=0.588, adv_loss=3.99, acc_pert=0.624, acc_cell_type=0.846, acc_cell_source=0.702, acc_gender=0.641, acc_region=0.305, val_recon=290, disnt_basal=2.41, disnt_after=3.1, val_r2_mean=0.569, val_KL=nan]\n",
      "disnt_basal = 2.4055197825587182\n",
      "disnt_after = 3.05594455737013\n",
      "val_r2_mean = 0.5821357105933759\n",
      "val_r2_var = 0.18708809921959507\n",
      "Epoch 90/1000:   9%|▉         | 89/1000 [06:27<1:04:36,  4.26s/it, v_num=1, recon=283, r2_mean=0.594, adv_loss=3.94, acc_pert=0.629, acc_cell_type=0.848, acc_cell_source=0.707, acc_gender=0.641, acc_region=0.307, val_recon=289, disnt_basal=2.41, disnt_after=3.06, val_r2_mean=0.582, val_KL=nan]\n",
      "disnt_basal = 2.3917082991782554\n",
      "disnt_after = 3.0211601426731853\n",
      "val_r2_mean = 0.5811956698716872\n",
      "val_r2_var = 0.19056911729932438\n",
      "Epoch 100/1000:  10%|▉         | 99/1000 [07:11<1:03:37,  4.24s/it, v_num=1, recon=282, r2_mean=0.597, adv_loss=3.91, acc_pert=0.632, acc_cell_type=0.848, acc_cell_source=0.71, acc_gender=0.643, acc_region=0.312, val_recon=287, disnt_basal=2.39, disnt_after=3.02, val_r2_mean=0.581, val_KL=nan]\n",
      "disnt_basal = 2.398809692707662\n",
      "disnt_after = 3.0162513171305187\n",
      "val_r2_mean = 0.5859746585065863\n",
      "val_r2_var = 0.19264606957154137\n",
      "Epoch 110/1000:  11%|█         | 109/1000 [07:54<1:02:45,  4.23s/it, v_num=1, recon=280, r2_mean=0.6, adv_loss=3.9, acc_pert=0.635, acc_cell_type=0.85, acc_cell_source=0.713, acc_gender=0.65, acc_region=0.309, val_recon=286, disnt_basal=2.4, disnt_after=3.02, val_r2_mean=0.586, val_KL=nan]     \n",
      "disnt_basal = 2.3747680087043155\n",
      "disnt_after = 2.972019644662543\n",
      "val_r2_mean = 0.589113255925285\n",
      "val_r2_var = 0.2012062419449627\n",
      "Epoch 110/1000:  11%|█         | 110/1000 [08:00<1:04:50,  4.37s/it, v_num=1, recon=280, r2_mean=0.606, adv_loss=3.9, acc_pert=0.638, acc_cell_type=0.849, acc_cell_source=0.708, acc_gender=0.651, acc_region=0.311, val_recon=286, disnt_basal=2.37, disnt_after=2.97, val_r2_mean=0.589, val_KL=nan]\n"
     ]
    }
   ],
   "source": [
    "module_name = 'CPA'\n",
    "\n",
    "model = cpa.CPA(adata=adata_cpa, \n",
    "                split_key=split_key, \n",
    "                recon_loss='zinb', \n",
    "                doser_type='linear',\n",
    "                n_layers_encoder=1,\n",
    "                n_layers_decoder=1,\n",
    "                dropout_rate_decoder=0.2,\n",
    "                dropout_rate_encoder=0.1,\n",
    "                n_latent=10,)\n",
    "\n",
    "save_path = f'models/{module_name}/{data_name},{today},10_30_PM/'\n",
    "if not os.path.exists(save_path):\n",
    "    os.makedirs(save_path)\n",
    "    \n",
    "plan_kwargs = {'dropout_rate_adv': 0.3, 'adv_steps': 2}\n",
    "\n",
    "model.train(max_epochs=1000,\n",
    "            use_gpu=True,\n",
    "            batch_size=1024,\n",
    "            plan_kwargs=plan_kwargs,\n",
    "            early_stopping_patience=10,\n",
    "            check_val_every_n_epoch=10,\n",
    "            save_path=save_path,\n",
    "           )"
   ]
  },
  {
   "cell_type": "code",
   "execution_count": 11,
   "id": "a1c1d2e6-2aa4-4103-8045-5c0ae13ffc54",
   "metadata": {},
   "outputs": [
    {
     "name": "stdout",
     "output_type": "stream",
     "text": [
      "\u001b[34mINFO    \u001b[0m File models/CPA/HeartAtlas,\u001b[1;36m2023\u001b[0m-\u001b[1;36m09\u001b[0m-\u001b[1;36m28\u001b[0m,10_30_PM/model.pt already downloaded                                \n"
     ]
    },
    {
     "name": "stderr",
     "output_type": "stream",
     "text": [
      "100%|██████████| 18641/18641 [00:00<00:00, 118384.39it/s]\n",
      "100%|██████████| 18641/18641 [00:00<00:00, 1140386.24it/s]\n",
      "Global seed set to 0\n"
     ]
    }
   ],
   "source": [
    "module_name = 'CPA'\n",
    "perturbation_key = cov_name\n",
    "control_group = cov_value\n",
    "\n",
    "model = cpa.CPA.load(dir_path=f'models/{module_name}/{data_name},2023-09-28,10_30_PM',\n",
    "                     adata=adata_cpa, use_gpu=True)"
   ]
  },
  {
   "cell_type": "code",
   "execution_count": 13,
   "id": "ad8471d0-c155-4242-aa02-f5444d7fa417",
   "metadata": {},
   "outputs": [
    {
     "name": "stdout",
     "output_type": "stream",
     "text": [
      "Warning: dosage_key is not set. Setting it to \"1.0\" for all cells\n"
     ]
    },
    {
     "name": "stderr",
     "output_type": "stream",
     "text": [
      "100%|██████████| 284/284 [00:00<00:00, 115727.42it/s]\n",
      "100%|██████████| 284/284 [00:00<00:00, 953708.84it/s]"
     ]
    },
    {
     "name": "stdout",
     "output_type": "stream",
     "text": [
      "\u001b[34mINFO    \u001b[0m Generating sequential column names                                                                        \n",
      "\u001b[34mINFO    \u001b[0m Generating sequential column names                                                                        \n"
     ]
    },
    {
     "name": "stderr",
     "output_type": "stream",
     "text": [
      "\n"
     ]
    }
   ],
   "source": [
    "cpa.CPA.setup_anndata(source_adata,\n",
    "                    perturbation_key=perturbation_key,\n",
    "                    control_group=control_group,\n",
    "                    categorical_covariate_keys=[c for c in cats if c != cov_name],\n",
    "                    )"
   ]
  },
  {
   "cell_type": "code",
   "execution_count": 14,
   "id": "8264c0c5-e6ff-41bd-b87b-5a1639bb7584",
   "metadata": {},
   "outputs": [
    {
     "name": "stdout",
     "output_type": "stream",
     "text": [
      "\u001b[34mINFO    \u001b[0m Input AnnData not setup with scvi-tools. attempting to transfer AnnData setup                             \n"
     ]
    },
    {
     "name": "stderr",
     "output_type": "stream",
     "text": [
      "100%|██████████| 9/9 [00:01<00:00,  7.93it/s]\n"
     ]
    }
   ],
   "source": [
    "model.predict(source_adata)"
   ]
  },
  {
   "cell_type": "code",
   "execution_count": 15,
   "id": "63e9d3f0-29ac-4c39-876c-969ffc0e91ce",
   "metadata": {},
   "outputs": [],
   "source": [
    "x_pred_cpa = torch.tensor(source_adata.obsm['CPA_pred'])\n",
    "\n",
    "px_cf_mean_pred_cpa = torch.mean(x_pred_cpa, axis=0)\n",
    "\n",
    "px_cf_variance_cpa = torch.sub(x_pred_cpa, px_cf_mean_pred_cpa)\n",
    "px_cf_variance_cpa = torch.pow(px_cf_variance_cpa, 2)\n",
    "px_cf_variance_pred_cpa = torch.mean(px_cf_variance_cpa, axis=0)"
   ]
  },
  {
   "cell_type": "code",
   "execution_count": 16,
   "id": "15938ba4-1d9f-46ff-ae67-6adf333723a2",
   "metadata": {},
   "outputs": [
    {
     "name": "stdout",
     "output_type": "stream",
     "text": [
      "All Genes\n",
      "R2 = 0.1656\n",
      "R2 log = 0.5088\n",
      "DE Genes (n_top=20)\n",
      "R2 = -0.2569\n",
      "R2 log = -0.2738\n"
     ]
    }
   ],
   "source": [
    "r2, r2_log, r2_deg, r2_log_deg = r2_eval(adata, cov_name, cov_value_cf, true_x_counts_mean, px_cf_mean_pred_cpa, n_top_deg=20)"
   ]
  },
  {
   "cell_type": "code",
   "execution_count": 17,
   "id": "2117323e-a7b4-442c-a3b2-a5778f08b573",
   "metadata": {},
   "outputs": [
    {
     "name": "stdout",
     "output_type": "stream",
     "text": [
      "All Genes\n",
      "R2 = 0.1656\n",
      "R2 log = 0.5088\n",
      "DE Genes (n_top=100)\n",
      "R2 = 0.0666\n",
      "R2 log = 0.3579\n"
     ]
    }
   ],
   "source": [
    "r2, r2_log, r2_deg, r2_log_deg = r2_eval(adata, cov_name, cov_value_cf, true_x_counts_mean, px_cf_mean_pred_cpa, n_top_deg=100)"
   ]
  },
  {
   "cell_type": "code",
   "execution_count": 18,
   "id": "90173807-a0f7-4e44-bac0-dd2ea0f34a55",
   "metadata": {},
   "outputs": [
    {
     "name": "stdout",
     "output_type": "stream",
     "text": [
      "All Genes\n",
      "R2 = -0.0042\n",
      "R2 log = -0.0255\n",
      "DE Genes (n_top=20)\n",
      "R2 = -0.2671\n",
      "R2 log = -1.2496\n"
     ]
    }
   ],
   "source": [
    "r2_v, r2_v_log, r2_v_deg, r2_v_log_deg = r2_eval(adata, cov_name, cov_value_cf, true_x_counts_variance, px_cf_variance_pred_cpa, n_top_deg=20)"
   ]
  },
  {
   "cell_type": "code",
   "execution_count": null,
   "id": "07f330ad-2fb8-43a1-91d2-e2635a1a28d9",
   "metadata": {},
   "outputs": [],
   "source": []
  },
  {
   "cell_type": "code",
   "execution_count": null,
   "id": "8ec8c865-2d46-43af-be66-1a450408f3e7",
   "metadata": {},
   "outputs": [],
   "source": []
  },
  {
   "cell_type": "code",
   "execution_count": null,
   "id": "411c7614-7671-4cd1-a523-a7d74beffe7a",
   "metadata": {},
   "outputs": [],
   "source": []
  },
  {
   "cell_type": "code",
   "execution_count": null,
   "id": "72b924b6-8de2-4631-9156-6747e9e357bf",
   "metadata": {},
   "outputs": [],
   "source": []
  },
  {
   "cell_type": "code",
   "execution_count": null,
   "id": "d3542dea-4d09-4866-a623-6caff1fc323e",
   "metadata": {},
   "outputs": [],
   "source": []
  },
  {
   "cell_type": "markdown",
   "id": "24719222-9607-4def-9493-6f56d16f0424",
   "metadata": {},
   "source": [
    "# CPA trials"
   ]
  },
  {
   "cell_type": "code",
   "execution_count": 66,
   "id": "87d2b662-04a7-45e5-85b4-b841117ee3dc",
   "metadata": {},
   "outputs": [
    {
     "name": "stderr",
     "output_type": "stream",
     "text": [
      "Global seed set to 0\n",
      "\n",
      "100%|██████████| 2/2 [00:00<00:00, 45.24it/s]\n",
      "GPU available: True (cuda), used: True\n",
      "TPU available: False, using: 0 TPU cores\n",
      "IPU available: False, using: 0 IPUs\n",
      "HPU available: False, using: 0 HPUs\n",
      "LOCAL_RANK: 0 - CUDA_VISIBLE_DEVICES: [MIG-GPU-8391e223-da74-0458-e121-783edc78bf21/0/0]\n"
     ]
    },
    {
     "name": "stdout",
     "output_type": "stream",
     "text": [
      "Epoch 10/1000:   1%|          | 9/1000 [02:04<3:48:42, 13.85s/it, v_num=1, recon=298, r2_mean=0.408, adv_loss=3.62, acc_pert=0.64, acc_cell_type=0.913, acc_cell_source=0.735, acc_gender=0.643, acc_region=0.336]"
     ]
    },
    {
     "name": "stderr",
     "output_type": "stream",
     "text": [
      "\n",
      "Epoch 00009: cpa_metric reached. Module best state updated.\n"
     ]
    },
    {
     "name": "stdout",
     "output_type": "stream",
     "text": [
      "\n",
      "disnt_basal = 1.9376250543320557\n",
      "disnt_after = 2.2342007689196888\n",
      "val_r2_mean = 0.4177842290193109\n",
      "val_r2_var = 0.04287997062059961\n",
      "Epoch 12/1000:   1%|          | 11/1000 [02:35<3:57:33, 14.41s/it, v_num=1, recon=295, r2_mean=0.423, adv_loss=3.6, acc_pert=0.649, acc_cell_type=0.908, acc_cell_source=0.742, acc_gender=0.649, acc_region=0.34, val_recon=298, disnt_basal=1.94, disnt_after=2.23, val_r2_mean=0.418, val_KL=nan]  "
     ]
    }
   ],
   "source": [
    "module_name = 'CPA'\n",
    "\n",
    "model = cpa.CPA(adata=adata_cpa, \n",
    "                split_key=split_key, \n",
    "                recon_loss='zinb', \n",
    "                doser_type='linear',\n",
    "                n_layers_encoder=1,\n",
    "                n_layers_decoder=1,\n",
    "                n_latent=10,)\n",
    "\n",
    "save_path = f'models/{module_name}/{data_name},{today},10_PM/'\n",
    "if not os.path.exists(save_path):\n",
    "    os.makedirs(save_path)\n",
    "\n",
    "\n",
    "model.train(max_epochs=1000,\n",
    "            use_gpu=True,\n",
    "            early_stopping_patience=10,\n",
    "            check_val_every_n_epoch=10,\n",
    "            save_path=save_path,\n",
    "           )"
   ]
  },
  {
   "cell_type": "code",
   "execution_count": 64,
   "id": "d8428b01-3909-4345-a3b4-a81abbe191fa",
   "metadata": {},
   "outputs": [
    {
     "name": "stderr",
     "output_type": "stream",
     "text": [
      "Global seed set to 0\n",
      "\n",
      "100%|██████████| 2/2 [00:00<00:00, 44.71it/s]\n",
      "GPU available: True (cuda), used: True\n",
      "TPU available: False, using: 0 TPU cores\n",
      "IPU available: False, using: 0 IPUs\n",
      "HPU available: False, using: 0 HPUs\n",
      "LOCAL_RANK: 0 - CUDA_VISIBLE_DEVICES: [MIG-GPU-8391e223-da74-0458-e121-783edc78bf21/0/0]\n"
     ]
    },
    {
     "name": "stdout",
     "output_type": "stream",
     "text": [
      "Epoch 10/1000:   1%|          | 9/1000 [02:03<3:44:23, 13.59s/it, v_num=1, recon=296, r2_mean=0.426, adv_loss=4.21, acc_pert=0.62, acc_cell_type=0.778, acc_cell_source=0.665, acc_gender=0.627, acc_region=0.292] "
     ]
    },
    {
     "name": "stderr",
     "output_type": "stream",
     "text": [
      "\n",
      "Epoch 00009: cpa_metric reached. Module best state updated.\n"
     ]
    },
    {
     "name": "stdout",
     "output_type": "stream",
     "text": [
      "\n",
      "disnt_basal = 1.8181130714156584\n",
      "disnt_after = 2.4165320881128007\n",
      "val_r2_mean = 0.4429301515749927\n",
      "val_r2_var = 0.05061732285615547\n",
      "Epoch 20/1000:   2%|▏         | 19/1000 [04:25<3:48:14, 13.96s/it, v_num=1, recon=286, r2_mean=0.469, adv_loss=4.28, acc_pert=0.614, acc_cell_type=0.691, acc_cell_source=0.686, acc_gender=0.626, acc_region=0.313, val_recon=294, disnt_basal=1.82, disnt_after=2.42, val_r2_mean=0.443, val_KL=nan]"
     ]
    },
    {
     "name": "stderr",
     "output_type": "stream",
     "text": [
      "\n",
      "Epoch 00019: cpa_metric reached. Module best state updated.\n"
     ]
    },
    {
     "name": "stdout",
     "output_type": "stream",
     "text": [
      "\n",
      "disnt_basal = 1.7837473106997292\n",
      "disnt_after = 2.373054578522874\n",
      "val_r2_mean = 0.4748545269224843\n",
      "val_r2_var = 0.07307010394764515\n",
      "Epoch 30/1000:   3%|▎         | 29/1000 [06:47<3:46:31, 14.00s/it, v_num=1, recon=281, r2_mean=0.489, adv_loss=4.31, acc_pert=0.618, acc_cell_type=0.665, acc_cell_source=0.686, acc_gender=0.63, acc_region=0.32, val_recon=288, disnt_basal=1.78, disnt_after=2.37, val_r2_mean=0.475, val_KL=nan]  \n",
      "disnt_basal = 1.780428189137132\n",
      "disnt_after = 2.3384216055149243\n",
      "val_r2_mean = 0.4841563055216537\n",
      "val_r2_var = 0.07686952148328223\n",
      "Epoch 40/1000:   4%|▍         | 39/1000 [09:08<3:39:48, 13.72s/it, v_num=1, recon=277, r2_mean=0.502, adv_loss=4.32, acc_pert=0.621, acc_cell_type=0.656, acc_cell_source=0.687, acc_gender=0.633, acc_region=0.324, val_recon=289, disnt_basal=1.78, disnt_after=2.34, val_r2_mean=0.484, val_KL=nan]\n",
      "disnt_basal = 1.7513930998521112\n",
      "disnt_after = 2.2920358464117414\n",
      "val_r2_mean = 0.49280333403099247\n",
      "val_r2_var = 0.08394934974940392\n",
      "Epoch 50/1000:   5%|▍         | 49/1000 [11:27<3:37:08, 13.70s/it, v_num=1, recon=274, r2_mean=0.51, adv_loss=4.35, acc_pert=0.619, acc_cell_type=0.647, acc_cell_source=0.69, acc_gender=0.622, acc_region=0.317, val_recon=285, disnt_basal=1.75, disnt_after=2.29, val_r2_mean=0.493, val_KL=nan]  \n",
      "disnt_basal = 1.7307175951643294\n",
      "disnt_after = 2.2715234119549317\n",
      "val_r2_mean = 0.4955633291005235\n",
      "val_r2_var = 0.08812567419235666\n",
      "Epoch 60/1000:   6%|▌         | 59/1000 [13:49<3:35:55, 13.77s/it, v_num=1, recon=271, r2_mean=0.515, adv_loss=4.39, acc_pert=0.62, acc_cell_type=0.634, acc_cell_source=0.68, acc_gender=0.629, acc_region=0.323, val_recon=285, disnt_basal=1.73, disnt_after=2.27, val_r2_mean=0.496, val_KL=nan]  \n",
      "disnt_basal = 1.7319924234535078\n",
      "disnt_after = 2.270880223709268\n",
      "val_r2_mean = 0.49662526969085813\n",
      "val_r2_var = 0.08773011539815433\n",
      "Epoch 70/1000:   7%|▋         | 69/1000 [16:10<3:33:01, 13.73s/it, v_num=1, recon=269, r2_mean=0.524, adv_loss=4.45, acc_pert=0.619, acc_cell_type=0.62, acc_cell_source=0.672, acc_gender=0.624, acc_region=0.324, val_recon=283, disnt_basal=1.73, disnt_after=2.27, val_r2_mean=0.497, val_KL=nan] \n",
      "disnt_basal = 1.7240330515364128\n",
      "disnt_after = 2.2622121022097943\n",
      "val_r2_mean = 0.5007478026008559\n",
      "val_r2_var = 0.0902452840540002\n",
      "Epoch 75/1000:   7%|▋         | 74/1000 [17:21<3:34:48, 13.92s/it, v_num=1, recon=268, r2_mean=0.526, adv_loss=4.49, acc_pert=0.619, acc_cell_type=0.605, acc_cell_source=0.662, acc_gender=0.618, acc_region=0.324, val_recon=283, disnt_basal=1.72, disnt_after=2.26, val_r2_mean=0.501, val_KL=nan]"
     ]
    }
   ],
   "source": [
    "module_name = 'CPA'\n",
    "\n",
    "model = cpa.CPA(adata=adata_cpa, \n",
    "                split_key=split_key, \n",
    "                recon_loss='zinb', \n",
    "                doser_type='linear',\n",
    "                n_latent=10,)\n",
    "\n",
    "save_path = f'models/{module_name}/{data_name},{today},9_30_PM/'\n",
    "if not os.path.exists(save_path):\n",
    "    os.makedirs(save_path)\n",
    "\n",
    "model.train(max_epochs=1000,\n",
    "            use_gpu=True,\n",
    "            early_stopping_patience=10,\n",
    "            check_val_every_n_epoch=10,\n",
    "            save_path=save_path,\n",
    "           )"
   ]
  },
  {
   "cell_type": "code",
   "execution_count": 61,
   "id": "b80fb157-6506-44e4-8c34-e2ecd4c75ca0",
   "metadata": {},
   "outputs": [
    {
     "name": "stderr",
     "output_type": "stream",
     "text": [
      "Global seed set to 0\n",
      "\n",
      "100%|██████████| 2/2 [00:00<00:00, 47.40it/s]\n",
      "GPU available: True (cuda), used: True\n",
      "TPU available: False, using: 0 TPU cores\n",
      "IPU available: False, using: 0 IPUs\n",
      "HPU available: False, using: 0 HPUs\n",
      "LOCAL_RANK: 0 - CUDA_VISIBLE_DEVICES: [MIG-GPU-8391e223-da74-0458-e121-783edc78bf21/0/0]\n"
     ]
    },
    {
     "name": "stdout",
     "output_type": "stream",
     "text": [
      "Epoch 10/1000:   1%|          | 9/1000 [02:04<3:47:39, 13.78s/it, v_num=1, recon=295, r2_mean=0.434, adv_loss=5.15, acc_pert=0.601, acc_cell_type=0.553, acc_cell_source=0.575, acc_gender=0.605, acc_region=0.268]"
     ]
    },
    {
     "name": "stderr",
     "output_type": "stream",
     "text": [
      "\n",
      "Epoch 00009: cpa_metric reached. Module best state updated.\n"
     ]
    },
    {
     "name": "stdout",
     "output_type": "stream",
     "text": [
      "\n",
      "disnt_basal = 1.6642462637124464\n",
      "disnt_after = 2.781179969886695\n",
      "val_r2_mean = 0.4458982518373444\n",
      "val_r2_var = 0.05129972067011736\n",
      "Epoch 20/1000:   2%|▏         | 19/1000 [04:26<3:46:36, 13.86s/it, v_num=1, recon=284, r2_mean=0.484, adv_loss=5.62, acc_pert=0.576, acc_cell_type=0.424, acc_cell_source=0.483, acc_gender=0.598, acc_region=0.27, val_recon=293, disnt_basal=1.66, disnt_after=2.78, val_r2_mean=0.446, val_KL=nan] "
     ]
    },
    {
     "name": "stderr",
     "output_type": "stream",
     "text": [
      "\n",
      "Epoch 00019: cpa_metric reached. Module best state updated.\n"
     ]
    },
    {
     "name": "stdout",
     "output_type": "stream",
     "text": [
      "\n",
      "disnt_basal = 1.6123794622280796\n",
      "disnt_after = 2.803832422119705\n",
      "val_r2_mean = 0.48206312611886876\n",
      "val_r2_var = 0.07424441067661555\n",
      "Epoch 30/1000:   3%|▎         | 29/1000 [06:47<3:42:13, 13.73s/it, v_num=1, recon=276, r2_mean=0.515, adv_loss=5.68, acc_pert=0.581, acc_cell_type=0.398, acc_cell_source=0.475, acc_gender=0.601, acc_region=0.283, val_recon=287, disnt_basal=1.61, disnt_after=2.8, val_r2_mean=0.482, val_KL=nan]"
     ]
    },
    {
     "name": "stderr",
     "output_type": "stream",
     "text": [
      "\n",
      "Epoch 00029: cpa_metric reached. Module best state updated.\n"
     ]
    },
    {
     "name": "stdout",
     "output_type": "stream",
     "text": [
      "\n",
      "disnt_basal = 1.5508954684385323\n",
      "disnt_after = 2.8083898679844963\n",
      "val_r2_mean = 0.5073564323678269\n",
      "val_r2_var = 0.09252901204196243\n",
      "Epoch 40/1000:   4%|▍         | 39/1000 [09:08<3:41:30, 13.83s/it, v_num=1, recon=271, r2_mean=0.538, adv_loss=5.73, acc_pert=0.562, acc_cell_type=0.371, acc_cell_source=0.481, acc_gender=0.585, acc_region=0.294, val_recon=282, disnt_basal=1.55, disnt_after=2.81, val_r2_mean=0.507, val_KL=nan]"
     ]
    },
    {
     "name": "stderr",
     "output_type": "stream",
     "text": [
      "\n",
      "Epoch 00039: cpa_metric reached. Module best state updated.\n"
     ]
    },
    {
     "name": "stdout",
     "output_type": "stream",
     "text": [
      "\n",
      "disnt_basal = 1.54243935365779\n",
      "disnt_after = 2.808637876822378\n",
      "val_r2_mean = 0.5161983489473385\n",
      "val_r2_var = 0.09725826027754916\n",
      "Epoch 50/1000:   5%|▍         | 49/1000 [11:29<3:37:40, 13.73s/it, v_num=1, recon=266, r2_mean=0.553, adv_loss=5.74, acc_pert=0.577, acc_cell_type=0.371, acc_cell_source=0.479, acc_gender=0.598, acc_region=0.291, val_recon=279, disnt_basal=1.54, disnt_after=2.81, val_r2_mean=0.516, val_KL=nan]"
     ]
    },
    {
     "name": "stderr",
     "output_type": "stream",
     "text": [
      "\n",
      "Epoch 00049: cpa_metric reached. Module best state updated.\n"
     ]
    },
    {
     "name": "stdout",
     "output_type": "stream",
     "text": [
      "\n",
      "disnt_basal = 1.5433695260452367\n",
      "disnt_after = 2.8067220535381456\n",
      "val_r2_mean = 0.5289095082837253\n",
      "val_r2_var = 0.10649365998832126\n",
      "Epoch 60/1000:   6%|▌         | 59/1000 [13:51<3:38:19, 13.92s/it, v_num=1, recon=263, r2_mean=0.564, adv_loss=5.75, acc_pert=0.577, acc_cell_type=0.374, acc_cell_source=0.48, acc_gender=0.594, acc_region=0.29, val_recon=278, disnt_basal=1.54, disnt_after=2.81, val_r2_mean=0.529, val_KL=nan]  "
     ]
    },
    {
     "name": "stderr",
     "output_type": "stream",
     "text": [
      "\n",
      "Epoch 00059: cpa_metric reached. Module best state updated.\n"
     ]
    },
    {
     "name": "stdout",
     "output_type": "stream",
     "text": [
      "\n",
      "disnt_basal = 1.5327087524177019\n",
      "disnt_after = 2.8062701028936314\n",
      "val_r2_mean = 0.5380697497930915\n",
      "val_r2_var = 0.1131704020757672\n",
      "Epoch 70/1000:   7%|▋         | 69/1000 [16:12<3:33:11, 13.74s/it, v_num=1, recon=259, r2_mean=0.575, adv_loss=5.72, acc_pert=0.575, acc_cell_type=0.385, acc_cell_source=0.484, acc_gender=0.596, acc_region=0.292, val_recon=276, disnt_basal=1.53, disnt_after=2.81, val_r2_mean=0.538, val_KL=nan]\n",
      "disnt_basal = 1.534447336992069\n",
      "disnt_after = 2.795852017725113\n",
      "val_r2_mean = 0.5387103183784467\n",
      "val_r2_var = 0.11406228828798155\n",
      "Epoch 80/1000:   8%|▊         | 79/1000 [18:32<3:30:55, 13.74s/it, v_num=1, recon=256, r2_mean=0.583, adv_loss=5.73, acc_pert=0.588, acc_cell_type=0.379, acc_cell_source=0.483, acc_gender=0.602, acc_region=0.295, val_recon=273, disnt_basal=1.53, disnt_after=2.8, val_r2_mean=0.539, val_KL=nan] \n",
      "disnt_basal = 1.5323689752197482\n",
      "disnt_after = 2.790357612848756\n",
      "val_r2_mean = 0.5389299615072384\n",
      "val_r2_var = 0.10963549222049562\n",
      "Epoch 90/1000:   9%|▉         | 89/1000 [20:56<3:30:36, 13.87s/it, v_num=1, recon=254, r2_mean=0.59, adv_loss=5.72, acc_pert=0.588, acc_cell_type=0.368, acc_cell_source=0.484, acc_gender=0.606, acc_region=0.296, val_recon=273, disnt_basal=1.53, disnt_after=2.79, val_r2_mean=0.539, val_KL=nan] \n",
      "disnt_basal = 1.5344415870652723\n",
      "disnt_after = 2.7831519876791533\n",
      "val_r2_mean = 0.5396684911037527\n",
      "val_r2_var = 0.11150426295220037\n",
      "Epoch 97/1000:  10%|▉         | 96/1000 [22:35<3:28:38, 13.85s/it, v_num=1, recon=252, r2_mean=0.595, adv_loss=5.73, acc_pert=0.593, acc_cell_type=0.372, acc_cell_source=0.483, acc_gender=0.606, acc_region=0.298, val_recon=274, disnt_basal=1.53, disnt_after=2.78, val_r2_mean=0.54, val_KL=nan]"
     ]
    }
   ],
   "source": [
    "module_name = 'CPA'\n",
    "\n",
    "model = cpa.CPA(adata=adata_cpa, \n",
    "                split_key=split_key, \n",
    "                recon_loss='zinb', \n",
    "                doser_type='linear',\n",
    "                n_latent=32,)\n",
    "\n",
    "save_path = f'models/{module_name}/{data_name},{today}_9PM/'\n",
    "if not os.path.exists(save_path):\n",
    "    os.makedirs(save_path)\n",
    "\n",
    "model.train(max_epochs=1000,\n",
    "            use_gpu=True,\n",
    "            early_stopping_patience=10,\n",
    "            check_val_every_n_epoch=10,\n",
    "            save_path=save_path,\n",
    "           )"
   ]
  },
  {
   "cell_type": "code",
   "execution_count": 58,
   "id": "4eee09be-c723-40b6-871d-b23328d36d2f",
   "metadata": {},
   "outputs": [
    {
     "name": "stderr",
     "output_type": "stream",
     "text": [
      "Global seed set to 0\n",
      "100%|██████████| 2/2 [00:00<00:00, 45.36it/s]\n",
      "GPU available: True (cuda), used: True\n",
      "TPU available: False, using: 0 TPU cores\n",
      "IPU available: False, using: 0 IPUs\n",
      "HPU available: False, using: 0 HPUs\n",
      "LOCAL_RANK: 0 - CUDA_VISIBLE_DEVICES: [MIG-GPU-8391e223-da74-0458-e121-783edc78bf21/0/0]\n"
     ]
    },
    {
     "name": "stdout",
     "output_type": "stream",
     "text": [
      "Epoch 10/1000:   1%|          | 9/1000 [02:12<3:53:43, 14.15s/it, v_num=1, recon=-399, r2_mean=0.368, adv_loss=4.04, acc_pert=0.584, acc_cell_type=0.845, acc_cell_source=0.687, acc_gender=0.588, acc_region=0.285]"
     ]
    },
    {
     "name": "stderr",
     "output_type": "stream",
     "text": [
      "\n",
      "Epoch 00009: cpa_metric reached. Module best state updated.\n"
     ]
    },
    {
     "name": "stdout",
     "output_type": "stream",
     "text": [
      "\n",
      "disnt_basal = 1.9340003695692134\n",
      "disnt_after = 2.588388974555734\n",
      "val_r2_mean = 0.38355003023439926\n",
      "val_r2_var = 0.06955434185827586\n",
      "Epoch 20/1000:   2%|▏         | 19/1000 [04:35<3:49:48, 14.06s/it, v_num=1, recon=-586, r2_mean=0.374, adv_loss=4.04, acc_pert=0.595, acc_cell_type=0.832, acc_cell_source=0.675, acc_gender=0.595, acc_region=0.278, val_recon=-329, disnt_basal=1.93, disnt_after=2.59, val_r2_mean=0.384, val_KL=nan]\n",
      "disnt_basal = 1.924035705147959\n",
      "disnt_after = 2.52824856868873\n",
      "val_r2_mean = 0.38482832209771317\n",
      "val_r2_var = 0.06157102616588139\n",
      "Epoch 30/1000:   3%|▎         | 29/1000 [06:59<3:47:14, 14.04s/it, v_num=1, recon=-701, r2_mean=0.372, adv_loss=4.02, acc_pert=0.596, acc_cell_type=0.824, acc_cell_source=0.697, acc_gender=0.597, acc_region=0.285, val_recon=-349, disnt_basal=1.92, disnt_after=2.53, val_r2_mean=0.385, val_KL=nan]\n",
      "disnt_basal = 1.9206401656747545\n",
      "disnt_after = 2.509506296637574\n",
      "val_r2_mean = 0.3804689466657812\n",
      "val_r2_var = 0.05940990770199061\n",
      "Epoch 40/1000:   4%|▍         | 39/1000 [09:22<3:43:45, 13.97s/it, v_num=1, recon=-767, r2_mean=0.369, adv_loss=4, acc_pert=0.599, acc_cell_type=0.821, acc_cell_source=0.704, acc_gender=0.609, acc_region=0.291, val_recon=-281, disnt_basal=1.92, disnt_after=2.51, val_r2_mean=0.38, val_KL=nan]    \n",
      "disnt_basal = 1.9228151453036182\n",
      "disnt_after = 2.475246461713284\n",
      "val_r2_mean = 0.3795769294775578\n",
      "val_r2_var = 0.06246418612790221\n",
      "Epoch 50/1000:   5%|▍         | 49/1000 [11:46<3:41:39, 13.98s/it, v_num=1, recon=-848, r2_mean=0.366, adv_loss=4, acc_pert=0.604, acc_cell_type=0.81, acc_cell_source=0.713, acc_gender=0.621, acc_region=0.288, val_recon=-290, disnt_basal=1.92, disnt_after=2.48, val_r2_mean=0.38, val_KL=nan]    \n",
      "disnt_basal = 1.9232441285692619\n",
      "disnt_after = 2.4485957633934357\n",
      "val_r2_mean = 0.36932044700693994\n",
      "val_r2_var = 0.041877732906489926\n",
      "Epoch 60/1000:   6%|▌         | 59/1000 [14:09<3:39:13, 13.98s/it, v_num=1, recon=-911, r2_mean=0.36, adv_loss=3.99, acc_pert=0.614, acc_cell_type=0.806, acc_cell_source=0.706, acc_gender=0.625, acc_region=0.294, val_recon=-322, disnt_basal=1.92, disnt_after=2.45, val_r2_mean=0.369, val_KL=nan] \n",
      "disnt_basal = 1.9064835816566916\n",
      "disnt_after = 2.4130618093347187\n",
      "val_r2_mean = 0.37108049760301837\n",
      "val_r2_var = 0.021404935590233463\n",
      "Epoch 70/1000:   7%|▋         | 69/1000 [16:32<3:36:46, 13.97s/it, v_num=1, recon=-974, r2_mean=0.358, adv_loss=4, acc_pert=0.618, acc_cell_type=0.805, acc_cell_source=0.714, acc_gender=0.623, acc_region=0.29, val_recon=-218, disnt_basal=1.91, disnt_after=2.41, val_r2_mean=0.371, val_KL=nan]    \n",
      "disnt_basal = 1.9095757339964203\n",
      "disnt_after = 2.38966342183358\n",
      "val_r2_mean = 0.3641456522701452\n",
      "val_r2_var = 0.033178632586290176\n",
      "Epoch 80/1000:   8%|▊         | 79/1000 [18:57<3:36:39, 14.12s/it, v_num=1, recon=-1.03e+3, r2_mean=0.354, adv_loss=3.98, acc_pert=0.62, acc_cell_type=0.809, acc_cell_source=0.718, acc_gender=0.633, acc_region=0.294, val_recon=-343, disnt_basal=1.91, disnt_after=2.39, val_r2_mean=0.364, val_KL=nan] \n",
      "disnt_basal = 1.8976595621523094\n",
      "disnt_after = 2.3800986528907875\n",
      "val_r2_mean = 0.3610923790870915\n",
      "val_r2_var = 0.008919015617004351\n",
      "Epoch 90/1000:   9%|▉         | 89/1000 [21:22<3:33:00, 14.03s/it, v_num=1, recon=-1.06e+3, r2_mean=0.351, adv_loss=3.95, acc_pert=0.623, acc_cell_type=0.806, acc_cell_source=0.718, acc_gender=0.639, acc_region=0.3, val_recon=-241, disnt_basal=1.9, disnt_after=2.38, val_r2_mean=0.361, val_KL=nan]  \n",
      "disnt_basal = 1.91103326202654\n",
      "disnt_after = 2.3771626438607014\n",
      "val_r2_mean = 0.3628916132426988\n",
      "val_r2_var = 0.001545951607356559\n",
      "Epoch 96/1000:  10%|▉         | 95/1000 [22:49<3:33:07, 14.13s/it, v_num=1, recon=-1.1e+3, r2_mean=0.352, adv_loss=3.95, acc_pert=0.626, acc_cell_type=0.81, acc_cell_source=0.715, acc_gender=0.635, acc_region=0.3, val_recon=-139, disnt_basal=1.91, disnt_after=2.38, val_r2_mean=0.363, val_KL=nan]    "
     ]
    }
   ],
   "source": [
    "module_name = 'CPA'\n",
    "\n",
    "model = cpa.CPA(adata=adata, \n",
    "                split_key=split_key, \n",
    "                recon_loss='gauss', \n",
    "                doser_type='linear',\n",
    "                n_latent=64,)\n",
    "\n",
    "save_path = f'models/{module_name}/{data_name},{today}_8PM/'\n",
    "if not os.path.exists(save_path):\n",
    "    os.makedirs(save_path)\n",
    "\n",
    "model.train(max_epochs=1000,\n",
    "            use_gpu=True,\n",
    "            early_stopping_patience=10,\n",
    "            check_val_every_n_epoch=10,\n",
    "            save_path=save_path,\n",
    "           )"
   ]
  },
  {
   "cell_type": "code",
   "execution_count": null,
   "id": "9139e9c6-bdd0-4041-996c-86eefad612ce",
   "metadata": {},
   "outputs": [],
   "source": []
  },
  {
   "cell_type": "code",
   "execution_count": null,
   "id": "2da03654-c5b4-43e8-a210-b41a18649e2b",
   "metadata": {},
   "outputs": [],
   "source": []
  },
  {
   "cell_type": "code",
   "execution_count": null,
   "id": "6b241bc0-c430-4c2b-9aed-9302efe8ba22",
   "metadata": {},
   "outputs": [],
   "source": []
  },
  {
   "cell_type": "code",
   "execution_count": null,
   "id": "d2c65595-b51e-4372-b3a1-42929f4293f9",
   "metadata": {},
   "outputs": [],
   "source": []
  },
  {
   "cell_type": "code",
   "execution_count": null,
   "id": "2f50949d-69eb-478a-bf8b-fffd55e045b2",
   "metadata": {},
   "outputs": [],
   "source": []
  },
  {
   "cell_type": "markdown",
   "id": "bcb82142-849e-4449-a8dd-ce1347d2664d",
   "metadata": {},
   "source": [
    "# CPA"
   ]
  },
  {
   "cell_type": "code",
   "execution_count": 30,
   "id": "3e78aeb8-09d9-49cd-ac43-f1d48762f1e7",
   "metadata": {},
   "outputs": [
    {
     "name": "stdout",
     "output_type": "stream",
     "text": [
      "Warning: dosage_key is not set. Setting it to \"1.0\" for all cells\n"
     ]
    },
    {
     "name": "stderr",
     "output_type": "stream",
     "text": [
      "100%|██████████| 18641/18641 [00:00<00:00, 111791.25it/s]\n",
      "100%|██████████| 18641/18641 [00:00<00:00, 1278259.50it/s]\n"
     ]
    },
    {
     "name": "stdout",
     "output_type": "stream",
     "text": [
      "\u001b[34mINFO    \u001b[0m Generating sequential column names                                                                        \n",
      "\u001b[34mINFO    \u001b[0m Generating sequential column names                                                                        \n"
     ]
    }
   ],
   "source": [
    "perturbation_key = cov_name\n",
    "control_group = cov_value\n",
    "\n",
    "cpa.CPA.setup_anndata(adata,\n",
    "                    perturbation_key=perturbation_key,\n",
    "                    control_group=control_group,\n",
    "                    categorical_covariate_keys=cats,\n",
    "                    )"
   ]
  },
  {
   "cell_type": "code",
   "execution_count": 31,
   "id": "0c7b9844-93a8-4a63-98b1-256cea6cd82d",
   "metadata": {},
   "outputs": [
    {
     "name": "stderr",
     "output_type": "stream",
     "text": [
      "Global seed set to 0\n",
      "100%|██████████| 2/2 [00:00<00:00, 42.87it/s]\n",
      "GPU available: True (cuda), used: True\n",
      "TPU available: False, using: 0 TPU cores\n",
      "IPU available: False, using: 0 IPUs\n",
      "HPU available: False, using: 0 HPUs\n",
      "LOCAL_RANK: 0 - CUDA_VISIBLE_DEVICES: [MIG-GPU-8391e223-da74-0458-e121-783edc78bf21/0/0]\n"
     ]
    },
    {
     "name": "stdout",
     "output_type": "stream",
     "text": [
      "Epoch 10/400:   2%|▏         | 9/400 [02:04<1:29:42, 13.77s/it, v_num=1, recon=314, r2_mean=0.405, adv_loss=5.89, acc_pert=0.568, acc_cell_type=0.391, acc_cell_source=0.476, acc_gender=0.605, acc_region=0.255]"
     ]
    },
    {
     "name": "stderr",
     "output_type": "stream",
     "text": [
      "\n",
      "Epoch 00009: cpa_metric reached. Module best state updated.\n"
     ]
    },
    {
     "name": "stdout",
     "output_type": "stream",
     "text": [
      "\n",
      "disnt_basal = 1.7667713550422586\n",
      "disnt_after = 2.7195045240608406\n",
      "val_r2_mean = 0.4092180040617501\n",
      "val_r2_var = -0.004967708668350296\n",
      "Epoch 20/400:   5%|▍         | 19/400 [04:26<1:27:57, 13.85s/it, v_num=1, recon=301, r2_mean=0.445, adv_loss=5.9, acc_pert=0.579, acc_cell_type=0.319, acc_cell_source=0.471, acc_gender=0.603, acc_region=0.278, val_recon=316, disnt_basal=1.77, disnt_after=2.72, val_r2_mean=0.409, val_KL=nan] "
     ]
    },
    {
     "name": "stderr",
     "output_type": "stream",
     "text": [
      "\n",
      "Epoch 00019: cpa_metric reached. Module best state updated.\n"
     ]
    },
    {
     "name": "stdout",
     "output_type": "stream",
     "text": [
      "\n",
      "disnt_basal = 1.5844365810046042\n",
      "disnt_after = 2.7665776612127697\n",
      "val_r2_mean = 0.4382088709761017\n",
      "val_r2_var = 0.016291998519173047\n",
      "Epoch 30/400:   7%|▋         | 29/400 [06:48<1:25:31, 13.83s/it, v_num=1, recon=291, r2_mean=0.471, adv_loss=5.78, acc_pert=0.587, acc_cell_type=0.342, acc_cell_source=0.473, acc_gender=0.613, acc_region=0.274, val_recon=306, disnt_basal=1.58, disnt_after=2.77, val_r2_mean=0.438, val_KL=nan]\n",
      "disnt_basal = 1.612523884849694\n",
      "disnt_after = 2.7519173548526394\n",
      "val_r2_mean = 0.45586601774836194\n",
      "val_r2_var = 0.027350632887494983\n",
      "Epoch 40/400:  10%|▉         | 39/400 [09:15<1:23:28, 13.87s/it, v_num=1, recon=284, r2_mean=0.489, adv_loss=5.71, acc_pert=0.591, acc_cell_type=0.384, acc_cell_source=0.498, acc_gender=0.602, acc_region=0.28, val_recon=301, disnt_basal=1.61, disnt_after=2.75, val_r2_mean=0.456, val_KL=nan] "
     ]
    },
    {
     "name": "stderr",
     "output_type": "stream",
     "text": [
      "\n",
      "Epoch 00039: cpa_metric reached. Module best state updated.\n"
     ]
    },
    {
     "name": "stdout",
     "output_type": "stream",
     "text": [
      "\n",
      "disnt_basal = 1.553794846855608\n",
      "disnt_after = 2.7508052361080484\n",
      "val_r2_mean = 0.46502875785105136\n",
      "val_r2_var = 0.034082882799349505\n",
      "Epoch 50/400:  12%|█▏        | 49/400 [11:36<1:21:05, 13.86s/it, v_num=1, recon=277, r2_mean=0.505, adv_loss=5.73, acc_pert=0.601, acc_cell_type=0.356, acc_cell_source=0.481, acc_gender=0.618, acc_region=0.288, val_recon=296, disnt_basal=1.55, disnt_after=2.75, val_r2_mean=0.465, val_KL=nan]"
     ]
    },
    {
     "name": "stderr",
     "output_type": "stream",
     "text": [
      "\n",
      "Epoch 00049: cpa_metric reached. Module best state updated.\n"
     ]
    },
    {
     "name": "stdout",
     "output_type": "stream",
     "text": [
      "\n",
      "disnt_basal = 1.5508021783454677\n",
      "disnt_after = 2.7498763146801455\n",
      "val_r2_mean = 0.4683244193558171\n",
      "val_r2_var = 0.038992803465830415\n",
      "Epoch 60/400:  15%|█▍        | 59/400 [13:58<1:18:48, 13.87s/it, v_num=1, recon=272, r2_mean=0.519, adv_loss=5.65, acc_pert=0.619, acc_cell_type=0.367, acc_cell_source=0.504, acc_gender=0.614, acc_region=0.301, val_recon=294, disnt_basal=1.55, disnt_after=2.75, val_r2_mean=0.468, val_KL=nan]"
     ]
    },
    {
     "name": "stderr",
     "output_type": "stream",
     "text": [
      "\n",
      "Epoch 00059: cpa_metric reached. Module best state updated.\n"
     ]
    },
    {
     "name": "stdout",
     "output_type": "stream",
     "text": [
      "\n",
      "disnt_basal = 1.5371320948216107\n",
      "disnt_after = 2.7442866154252155\n",
      "val_r2_mean = 0.4690925794249258\n",
      "val_r2_var = 0.038966781068871637\n",
      "Epoch 70/400:  17%|█▋        | 69/400 [16:19<1:16:01, 13.78s/it, v_num=1, recon=268, r2_mean=0.531, adv_loss=5.64, acc_pert=0.609, acc_cell_type=0.376, acc_cell_source=0.504, acc_gender=0.623, acc_region=0.304, val_recon=293, disnt_basal=1.54, disnt_after=2.74, val_r2_mean=0.469, val_KL=nan]\n",
      "disnt_basal = 1.5400830044231233\n",
      "disnt_after = 2.737256332331988\n",
      "val_r2_mean = 0.4766878043134028\n",
      "val_r2_var = 0.038156986191754005\n",
      "Epoch 80/400:  20%|█▉        | 79/400 [18:40<1:13:45, 13.79s/it, v_num=1, recon=263, r2_mean=0.543, adv_loss=5.57, acc_pert=0.626, acc_cell_type=0.383, acc_cell_source=0.519, acc_gender=0.627, acc_region=0.312, val_recon=289, disnt_basal=1.54, disnt_after=2.74, val_r2_mean=0.477, val_KL=nan]\n",
      "disnt_basal = 1.5277946269707374\n",
      "disnt_after = 2.7306760751225005\n",
      "val_r2_mean = 0.47203794935310606\n",
      "val_r2_var = 0.037478859542695066\n",
      "Epoch 90/400:  22%|██▏       | 89/400 [21:05<1:12:11, 13.93s/it, v_num=1, recon=260, r2_mean=0.551, adv_loss=5.53, acc_pert=0.625, acc_cell_type=0.399, acc_cell_source=0.521, acc_gender=0.635, acc_region=0.323, val_recon=288, disnt_basal=1.53, disnt_after=2.73, val_r2_mean=0.472, val_KL=nan]\n",
      "disnt_basal = 1.5403292857604238\n",
      "disnt_after = 2.725554637359878\n",
      "val_r2_mean = 0.473700388879742\n",
      "val_r2_var = 0.038731627037339726\n",
      "Epoch 100/400:  25%|██▍       | 99/400 [23:29<1:09:48, 13.92s/it, v_num=1, recon=256, r2_mean=0.559, adv_loss=5.51, acc_pert=0.638, acc_cell_type=0.39, acc_cell_source=0.526, acc_gender=0.638, acc_region=0.323, val_recon=288, disnt_basal=1.54, disnt_after=2.73, val_r2_mean=0.474, val_KL=nan]\n",
      "disnt_basal = 1.5216990470203264\n",
      "disnt_after = 2.716540397244123\n",
      "val_r2_mean = 0.4755657438316513\n",
      "val_r2_var = 0.033643902395922035\n",
      "Epoch 110/400:  27%|██▋       | 109/400 [25:51<1:07:00, 13.82s/it, v_num=1, recon=254, r2_mean=0.566, adv_loss=5.49, acc_pert=0.646, acc_cell_type=0.4, acc_cell_source=0.519, acc_gender=0.643, acc_region=0.322, val_recon=287, disnt_basal=1.52, disnt_after=2.72, val_r2_mean=0.476, val_KL=nan]  \n",
      "disnt_basal = 1.5287461758483978\n",
      "disnt_after = 2.7072850756920745\n",
      "val_r2_mean = 0.47145466513927037\n",
      "val_r2_var = 0.02962590645637365\n",
      "Epoch 120/400:  30%|██▉       | 119/400 [28:11<1:04:27, 13.76s/it, v_num=1, recon=251, r2_mean=0.574, adv_loss=5.42, acc_pert=0.65, acc_cell_type=0.4, acc_cell_source=0.545, acc_gender=0.655, acc_region=0.331, val_recon=286, disnt_basal=1.53, disnt_after=2.71, val_r2_mean=0.471, val_KL=nan]   \n",
      "disnt_basal = 1.523496999909129\n",
      "disnt_after = 2.7069266901437197\n",
      "val_r2_mean = 0.47175869780122953\n",
      "val_r2_var = 0.028634647266900588\n",
      "Epoch 130/400:  32%|███▏      | 129/400 [30:33<1:02:43, 13.89s/it, v_num=1, recon=248, r2_mean=0.582, adv_loss=5.4, acc_pert=0.652, acc_cell_type=0.405, acc_cell_source=0.545, acc_gender=0.653, acc_region=0.334, val_recon=287, disnt_basal=1.52, disnt_after=2.71, val_r2_mean=0.472, val_KL=nan] \n",
      "disnt_basal = 1.5129314222846522\n",
      "disnt_after = 2.684744851077494\n",
      "val_r2_mean = 0.4733265212314256\n",
      "val_r2_var = 0.02690113384763929\n",
      "Epoch 140/400:  35%|███▍      | 139/400 [32:56<1:00:24, 13.89s/it, v_num=1, recon=246, r2_mean=0.589, adv_loss=5.33, acc_pert=0.659, acc_cell_type=0.414, acc_cell_source=0.56, acc_gender=0.661, acc_region=0.341, val_recon=287, disnt_basal=1.51, disnt_after=2.68, val_r2_mean=0.473, val_KL=nan] \n",
      "disnt_basal = 1.5146476015460248\n",
      "disnt_after = 2.6866981505228074\n",
      "val_r2_mean = 0.4715077053473489\n",
      "val_r2_var = 0.024485998280602796\n",
      "Epoch 150/400:  37%|███▋      | 149/400 [35:18<57:36, 13.77s/it, v_num=1, recon=244, r2_mean=0.594, adv_loss=5.3, acc_pert=0.658, acc_cell_type=0.418, acc_cell_source=0.564, acc_gender=0.663, acc_region=0.336, val_recon=289, disnt_basal=1.51, disnt_after=2.69, val_r2_mean=0.472, val_KL=nan]   \n",
      "disnt_basal = 1.5176196812979887\n",
      "disnt_after = 2.6858860419192823\n",
      "val_r2_mean = 0.4732078830373439\n",
      "val_r2_var = 0.021926253592018673\n",
      "Epoch 160/400:  40%|███▉      | 159/400 [37:39<55:45, 13.88s/it, v_num=1, recon=242, r2_mean=0.6, adv_loss=5.29, acc_pert=0.675, acc_cell_type=0.421, acc_cell_source=0.556, acc_gender=0.67, acc_region=0.346, val_recon=287, disnt_basal=1.52, disnt_after=2.69, val_r2_mean=0.473, val_KL=nan]    \n",
      "disnt_basal = 1.5180842479149994\n",
      "disnt_after = 2.6716953821673344\n",
      "val_r2_mean = 0.4713806989166891\n",
      "val_r2_var = 0.014894841154817878\n",
      "Epoch 160/400:  40%|████      | 160/400 [37:56<56:55, 14.23s/it, v_num=1, recon=242, r2_mean=0.599, adv_loss=5.32, acc_pert=0.665, acc_cell_type=0.411, acc_cell_source=0.564, acc_gender=0.669, acc_region=0.349, val_recon=288, disnt_basal=1.52, disnt_after=2.67, val_r2_mean=0.471, val_KL=nan]\n"
     ]
    }
   ],
   "source": [
    "module_name = 'CPA'\n",
    "\n",
    "model = cpa.CPA(adata=adata, split_key=split_key)\n",
    "\n",
    "save_path = f'models/{module_name}/{data_name},{today}/'\n",
    "if not os.path.exists(save_path):\n",
    "    os.makedirs(save_path)\n",
    "\n",
    "model.train(max_epochs=400,\n",
    "            use_gpu=True,\n",
    "            early_stopping_patience=10,\n",
    "            check_val_every_n_epoch=10,\n",
    "            save_path=save_path,\n",
    "           )"
   ]
  },
  {
   "cell_type": "code",
   "execution_count": 32,
   "id": "84c56179-9a8e-47a5-96d8-138c2a4c5b66",
   "metadata": {},
   "outputs": [
    {
     "name": "stdout",
     "output_type": "stream",
     "text": [
      "\u001b[34mINFO    \u001b[0m File models/CPA/HeartAtlas,\u001b[1;36m2023\u001b[0m-\u001b[1;36m09\u001b[0m-\u001b[1;36m28\u001b[0m/model.pt already downloaded                                         \n"
     ]
    },
    {
     "name": "stderr",
     "output_type": "stream",
     "text": [
      "100%|██████████| 18641/18641 [00:00<00:00, 114650.33it/s]\n",
      "100%|██████████| 18641/18641 [00:00<00:00, 1286081.21it/s]\n",
      "Global seed set to 0\n"
     ]
    }
   ],
   "source": [
    "module_name = 'CPA'\n",
    "perturbation_key = cov_name\n",
    "control_group = cov_value\n",
    "\n",
    "model = cpa.CPA.load(dir_path=f'models/{module_name}/{data_name},{today}',\n",
    "                     adata=adata, use_gpu=True)"
   ]
  },
  {
   "cell_type": "code",
   "execution_count": 33,
   "id": "9242a252-cf77-41c1-b040-5a6c73698aca",
   "metadata": {},
   "outputs": [
    {
     "name": "stderr",
     "output_type": "stream",
     "text": [
      "100%|██████████| 583/583 [00:01<00:00, 305.63it/s]\n"
     ]
    }
   ],
   "source": [
    "model.predict()"
   ]
  },
  {
   "cell_type": "code",
   "execution_count": 49,
   "id": "40071b58-4f4e-4885-a637-0aad5b1413f7",
   "metadata": {},
   "outputs": [],
   "source": [
    "x_pred_cpa = torch.tensor(adata.obsm['CPA_pred'])\n",
    "\n",
    "px_cf_mean_pred_cpa = torch.mean(x_pred_cpa, axis=0)\n",
    "\n",
    "px_cf_variance_cpa = torch.sub(x_pred_cpa, px_cf_mean_pred_cpa)\n",
    "px_cf_variance_cpa = torch.pow(px_cf_variance_cpa, 2)\n",
    "px_cf_variance_pred_cpa = torch.mean(px_cf_variance_cpa, axis=0)"
   ]
  },
  {
   "cell_type": "code",
   "execution_count": 52,
   "id": "9a17eee4-d4a5-4d4e-aaec-d9a7eb27f34b",
   "metadata": {},
   "outputs": [
    {
     "name": "stdout",
     "output_type": "stream",
     "text": [
      "All Genes\n",
      "R2 = 0.0408\n",
      "R2 log = -0.1740\n",
      "DE Genes (n_top=20)\n",
      "R2 = -0.2692\n",
      "R2 log = -0.4280\n"
     ]
    }
   ],
   "source": [
    "r2, r2_log, r2_deg, r2_log_deg = r2_eval(adata, cov_name, cov_value_cf, true_x_counts_mean, px_cf_mean_pred_cpa, n_top_deg=20)"
   ]
  },
  {
   "cell_type": "code",
   "execution_count": 54,
   "id": "a6173c24-e5e9-43f7-a133-38453b2c460e",
   "metadata": {},
   "outputs": [
    {
     "name": "stdout",
     "output_type": "stream",
     "text": [
      "All Genes\n",
      "R2 = 0.0408\n",
      "R2 log = -0.1740\n",
      "DE Genes (n_top=100)\n",
      "R2 = 0.0499\n",
      "R2 log = 0.2140\n"
     ]
    }
   ],
   "source": [
    "r2, r2_log, r2_deg, r2_log_deg = r2_eval(adata, cov_name, cov_value_cf, true_x_counts_mean, px_cf_mean_pred_cpa, n_top_deg=100)"
   ]
  },
  {
   "cell_type": "code",
   "execution_count": null,
   "id": "e186cc27-cca4-4e06-bc83-85ec223a9a5f",
   "metadata": {},
   "outputs": [],
   "source": []
  },
  {
   "cell_type": "code",
   "execution_count": null,
   "id": "29ebb45a-f828-46ed-8999-483724f0f3d1",
   "metadata": {},
   "outputs": [],
   "source": []
  },
  {
   "cell_type": "code",
   "execution_count": null,
   "id": "2be080ae-ed2d-4dc3-86cd-2defd5035a21",
   "metadata": {},
   "outputs": [],
   "source": []
  },
  {
   "cell_type": "markdown",
   "id": "b3774a5d-e6e5-467e-85ad-ce63b6068bbc",
   "metadata": {},
   "source": [
    "# biolord"
   ]
  },
  {
   "cell_type": "code",
   "execution_count": 21,
   "id": "30646eab-5aaf-414e-8299-6b90d8ba622b",
   "metadata": {},
   "outputs": [
    {
     "name": "stderr",
     "output_type": "stream",
     "text": [
      "Global seed set to 42\n"
     ]
    }
   ],
   "source": [
    "biolord.Biolord.setup_anndata(\n",
    "    adata=adata,\n",
    "    categorical_attributes_keys=cats,\n",
    "    layer=\"counts\"\n",
    ")\n",
    "\n",
    "module_params = {\n",
    "    \"decoder_width\": 512,\n",
    "    \"decoder_depth\": 6,\n",
    "    \"attribute_nn_width\": 256,\n",
    "    \"attribute_nn_depth\": 2,\n",
    "    \"unknown_attribute_noise_param\": 1e0,\n",
    "    \"seed\": 42,\n",
    "    \"n_latent_attribute_ordered\": 16,\n",
    "    \"n_latent_attribute_categorical\": 16,\n",
    "    \"gene_likelihood\": \"poisson\",\n",
    "    \"reconstruction_penalty\": 1e1,\n",
    "    \"unknown_attribute_penalty\": 1e0,\n",
    "    \"attribute_dropout_rate\": 0.1\n",
    "}\n",
    "\n",
    "model = biolord.Biolord(\n",
    "    adata=adata,\n",
    "    split_key=split_key,\n",
    "    module_params=module_params,\n",
    ")"
   ]
  },
  {
   "cell_type": "code",
   "execution_count": 22,
   "id": "f05909ee-a5ea-40bc-98b8-3df3c052ba33",
   "metadata": {},
   "outputs": [
    {
     "name": "stderr",
     "output_type": "stream",
     "text": [
      "GPU available: True (cuda), used: True\n",
      "TPU available: False, using: 0 TPU cores\n",
      "IPU available: False, using: 0 IPUs\n",
      "HPU available: False, using: 0 HPUs\n",
      "LOCAL_RANK: 0 - CUDA_VISIBLE_DEVICES: [MIG-GPU-8391e223-da74-0458-e121-783edc78bf21/0/0]\n"
     ]
    },
    {
     "name": "stdout",
     "output_type": "stream",
     "text": [
      "Epoch 61/400:  15%|█▌        | 61/400 [01:10<06:29,  1.15s/it, v_num=1, val_generative_mean_accuracy=0.717, val_generative_var_accuracy=0.343, val_biolord_metric=0.53, val_reconstruction_loss=437, val_unknown_attribute_penalty_loss=39, generative_mean_accuracy=0, generative_var_accuracy=0, biolord_metric=0, reconstruction_loss=359, unknown_attribute_penalty_loss=243]    \n",
      "Monitored metric val_biolord_metric did not improve in the last 20 records. Best score: 0.537. Signaling Trainer to stop.\n"
     ]
    }
   ],
   "source": [
    "trainer_params = {\n",
    "    \"n_epochs_warmup\": 0,\n",
    "    \"decoder_lr\": 1e-4,\n",
    "    \"decoder_wd\": 1e-4,\n",
    "    \"attribute_nn_lr\": 1e-2,\n",
    "    \"attribute_nn_wd\": 4e-8,\n",
    "    \"step_size_lr\": 45,\n",
    "    \"cosine_scheduler\": True,\n",
    "    \"scheduler_final_lr\": 1e-5,\n",
    "}\n",
    "\n",
    "model.train(\n",
    "    max_epochs=400,\n",
    "    early_stopping=True,\n",
    "    plan_kwargs=trainer_params,\n",
    ")"
   ]
  },
  {
   "cell_type": "code",
   "execution_count": 23,
   "id": "b10a61ad-f2da-4439-b2bc-3220f73c3f4a",
   "metadata": {},
   "outputs": [],
   "source": [
    "module_name = 'biolord'\n",
    "model.save(f'models/{module_name}/{data_name},{today}')"
   ]
  },
  {
   "cell_type": "code",
   "execution_count": null,
   "id": "8a5c666f-277b-4083-833a-66ea1f976c44",
   "metadata": {},
   "outputs": [],
   "source": []
  },
  {
   "cell_type": "code",
   "execution_count": 19,
   "id": "b557a0c6-6da2-4027-a3e7-bc036b39b7b2",
   "metadata": {},
   "outputs": [
    {
     "name": "stdout",
     "output_type": "stream",
     "text": [
      "\u001b[34mINFO    \u001b[0m File models/biolord/HeartAtlas,\u001b[1;36m2023\u001b[0m-\u001b[1;36m09\u001b[0m-\u001b[1;36m28\u001b[0m/model.pt already downloaded                                     \n"
     ]
    },
    {
     "name": "stderr",
     "output_type": "stream",
     "text": [
      "Global seed set to 42\n"
     ]
    }
   ],
   "source": [
    "model_bio = biolord.Biolord.load(f'models/biolord/HeartAtlas,2023-09-28', adata=adata)"
   ]
  },
  {
   "cell_type": "code",
   "execution_count": 20,
   "id": "c0b1f299-184e-4561-ace8-349b19d01b9d",
   "metadata": {},
   "outputs": [],
   "source": [
    "biolord.Biolord.setup_anndata(\n",
    "    adata=source_adata,\n",
    "    categorical_attributes_keys=cats,\n",
    "    layer=\"counts\"\n",
    ")"
   ]
  },
  {
   "cell_type": "code",
   "execution_count": 21,
   "id": "bf71f390-27fd-49b4-a44f-8966b24e12bb",
   "metadata": {},
   "outputs": [
    {
     "name": "stdout",
     "output_type": "stream",
     "text": [
      "\u001b[34mINFO    \u001b[0m Input AnnData not setup with scvi-tools. attempting to transfer AnnData setup                             \n"
     ]
    },
    {
     "name": "stderr",
     "output_type": "stream",
     "text": [
      "0it [00:00, ?it/s]"
     ]
    },
    {
     "name": "stdout",
     "output_type": "stream",
     "text": [
      "\u001b[34mINFO    \u001b[0m AnnData object appears to be a copy. Attempting to transfer setup.                                        \n",
      "\u001b[34mINFO    \u001b[0m AnnData object appears to be a copy. Attempting to transfer setup.                                        \n"
     ]
    },
    {
     "name": "stderr",
     "output_type": "stream",
     "text": [
      "2it [00:00, 10.37it/s]\n"
     ]
    }
   ],
   "source": [
    "adata_preds = model_bio.compute_prediction_adata(\n",
    "    adata, source_adata, target_attributes=[cov_name]\n",
    ")"
   ]
  },
  {
   "cell_type": "code",
   "execution_count": 25,
   "id": "c95f61cd-0a75-44d6-b4dd-4a50c9d19f90",
   "metadata": {},
   "outputs": [],
   "source": [
    "x_pred_bio = torch.tensor(adata_preds.X)\n",
    "\n",
    "px_cf_mean_pred_bio = torch.mean(x_pred_bio, axis=0)\n",
    "\n",
    "px_cf_variance_bio = torch.sub(x_pred_bio, px_cf_mean_pred_bio)\n",
    "px_cf_variance_bio = torch.pow(px_cf_variance_bio, 2)\n",
    "px_cf_variance_pred_bio = torch.mean(px_cf_variance_bio, axis=0)"
   ]
  },
  {
   "cell_type": "code",
   "execution_count": 31,
   "id": "2e924ca5-7950-4de9-a83c-ff19b2cfcfbb",
   "metadata": {},
   "outputs": [
    {
     "name": "stdout",
     "output_type": "stream",
     "text": [
      "All Genes\n",
      "R2 = 0.9486\n",
      "R2 log = 0.9331\n",
      "DE Genes (n_top=20)\n",
      "R2 = 0.9733\n",
      "R2 log = 0.9719\n"
     ]
    }
   ],
   "source": [
    "r2__bio, r2_log_bio, r2_deg_bio, r2_log_deg_bio = r2_eval(adata, cov_name, cov_value_cf, true_x_counts_mean, px_cf_mean_pred_bio, n_top_deg=20)"
   ]
  },
  {
   "cell_type": "code",
   "execution_count": 143,
   "id": "362d06c4-9c00-4a00-b1c8-7f04faa43de2",
   "metadata": {},
   "outputs": [
    {
     "name": "stdout",
     "output_type": "stream",
     "text": [
      "All Genes\n",
      "R2 = 0.9486\n",
      "R2 log = 0.9331\n",
      "DE Genes (n_top=100)\n",
      "R2 = 0.9709\n",
      "R2 log = 0.9670\n"
     ]
    }
   ],
   "source": [
    "r2__bio, r2_log_bio, r2_deg_bio, r2_log_deg_bio = r2_eval(adata, cov_name, cov_value_cf, true_x_counts_mean, px_cf_mean_pred_bio, n_top_deg=100)"
   ]
  },
  {
   "cell_type": "code",
   "execution_count": 29,
   "id": "c07a6e0b-016a-4726-b176-583487f24ad5",
   "metadata": {},
   "outputs": [
    {
     "name": "stdout",
     "output_type": "stream",
     "text": [
      "All Genes\n",
      "R2 = 0.9486\n",
      "R2 log = 0.9331\n",
      "DE Genes (n_top=200)\n",
      "R2 = 0.9694\n",
      "R2 log = 0.9612\n"
     ]
    }
   ],
   "source": [
    "r2__bio, r2_log_bio, r2_deg_bio, r2_log_deg_bio = r2_eval(adata, cov_name, cov_value_cf, true_x_counts_mean, px_cf_mean_pred_bio, n_top_deg=200)"
   ]
  },
  {
   "cell_type": "code",
   "execution_count": null,
   "id": "43537c62-240a-4e5f-941d-a3a58d6318d3",
   "metadata": {},
   "outputs": [],
   "source": []
  },
  {
   "cell_type": "code",
   "execution_count": null,
   "id": "84e8bb60-2662-4d63-8782-3cbbdce4471b",
   "metadata": {},
   "outputs": [],
   "source": []
  },
  {
   "cell_type": "markdown",
   "id": "42f3c9f6-01f2-4253-871d-5c4e1b7bf156",
   "metadata": {},
   "source": [
    "# dis2p"
   ]
  },
  {
   "cell_type": "code",
   "execution_count": 64,
   "id": "2d94fe66-3bc2-4432-a826-23e83f7175a3",
   "metadata": {},
   "outputs": [],
   "source": [
    "maxMIG = []\n",
    "concatMIG = []\n",
    "\n",
    "maxCAG = []\n",
    "concatCAG = []\n",
    "\n",
    "R2_mean = []\n",
    "R2_mean_log = []\n",
    "R2_mean_deg = []\n",
    "R2_mean_log_deg = []\n",
    "R2_var = []\n",
    "R2_var_log = []\n",
    "R2_var_deg = []\n",
    "R2_var_log_deg = []\n",
    "\n",
    "x_pred = []\n",
    "\n",
    "cf_weight = [0, 1, 5, 10]\n",
    "clf_weight = [0, 5, 10, 50, 100, 200]\n",
    "adv_clf_weight = [0, 5, 10, 50, 100, 200]\n",
    "\n",
    "cf_colors = []\n",
    "clf_colors = []\n",
    "adv_clf_colors = []\n",
    "\n",
    "pre_path = '/lustre/scratch126/cellgen/team205/ha11/26Sep/metrics/Diffair/'\n",
    "\n",
    "for i in range(len(cf_weight)):\n",
    "    for j in range(len(clf_weight)):\n",
    "        for k in range(len(adv_clf_weight)):\n",
    "            \n",
    "            cf_w = float(cf_weight[i])\n",
    "            clf_w = float(clf_weight[j])\n",
    "            adv_clf_w = float(adv_clf_weight[k])\n",
    "            \n",
    "            MI_df = pd.read_csv(f'{pre_path}2023-09-27,Diffair,HeartAtlas,n_layers=1,max_epochs=400,batch_size=128,cf_weight={cf_w},beta=1.0,clf_weight={clf_w},adv_clf_weight={adv_clf_w},adv_period=1,mode=(0, 1, 2, 3, 4),n_cf=1,MI.csv')\n",
    "            acc_df = pd.read_csv(f'{pre_path}2023-09-27,Diffair,HeartAtlas,n_layers=1,max_epochs=400,batch_size=128,cf_weight={cf_w},beta=1.0,clf_weight={clf_w},adv_clf_weight={adv_clf_w},adv_period=1,mode=(0, 1, 2, 3, 4),n_cf=1,acc.csv')\n",
    "            R2_df = pd.read_csv(f'{pre_path}2023-09-27,Diffair,HeartAtlas,n_layers=1,max_epochs=400,batch_size=128,cf_weight={cf_w},beta=1.0,clf_weight={clf_w},adv_clf_weight={adv_clf_w},adv_period=1,mode=(0, 1, 2, 3, 4),n_cf=1,r2.csv')\n",
    "            \n",
    "            x_df = pd.read_csv(f'{pre_path}OOD,2023-09-27,Diffair,HeartAtlas,n_layers=1,max_epochs=400,batch_size=128,cf_weight={cf_w},beta=1.0,clf_weight={clf_w},adv_clf_weight={adv_clf_w},adv_period=1,mode=(0, 1, 2, 3, 4),n_cf=1,ood_pred.csv')\n",
    "            \n",
    "            maxMIG.append(MI_df.iloc[3, -1])\n",
    "            concatMIG.append(MI_df.iloc[4, -1])   \n",
    "            \n",
    "            maxCAG.append(acc_df.iloc[4, -1])\n",
    "            concatCAG.append(acc_df.iloc[3, -1])   \n",
    "            \n",
    "            R2_mean.append(R2_df.iloc[0, 1])\n",
    "            R2_mean_log.append(R2_df.iloc[0, 1])\n",
    "            R2_mean_deg.append(R2_df.iloc[0, 3])\n",
    "            R2_mean_log_deg.append(R2_df.iloc[0, 4])\n",
    "            R2_var.append(R2_df.iloc[1, 1])\n",
    "            R2_var_log.append(R2_df.iloc[1, 2])\n",
    "            R2_var_deg.append(R2_df.iloc[1, 3])\n",
    "            R2_var_log_deg.append(R2_df.iloc[1, 4])\n",
    "            \n",
    "            cf_colors.append((i / (len(cf_weight) - 1), 0.1, 0.1))\n",
    "            clf_colors.append((0.1, j / (len(clf_weight) - 1), 0.1))\n",
    "            adv_clf_colors.append((0.1, 0.1, k / (len(adv_clf_weight) - 1)))\n",
    "            \n",
    "            x_pred.append(x_df.iloc[2, 1:])\n"
   ]
  },
  {
   "cell_type": "code",
   "execution_count": 85,
   "id": "1476f4d6-5c52-4d06-9179-921207bb0b09",
   "metadata": {},
   "outputs": [],
   "source": [
    "r2_log_dis2p = R2_mean_log[81]\n",
    "x_pred_dis2p = torch.tensor(x_pred[81])"
   ]
  },
  {
   "cell_type": "code",
   "execution_count": 139,
   "id": "9668344d-4e19-4e55-9c1b-f93114e5085c",
   "metadata": {},
   "outputs": [],
   "source": [
    "r2_log_deg_dis2p = R2_mean_log_deg[81]\n"
   ]
  },
  {
   "cell_type": "code",
   "execution_count": null,
   "id": "66fed6e2-ecc7-4f61-bf2d-c1ae8b3705e3",
   "metadata": {},
   "outputs": [],
   "source": []
  },
  {
   "cell_type": "code",
   "execution_count": null,
   "id": "413a423f-aa4f-4e46-9b89-667eae649e5c",
   "metadata": {},
   "outputs": [],
   "source": []
  },
  {
   "cell_type": "code",
   "execution_count": null,
   "id": "edddd5e8-4e82-4c6e-a78a-a9e73e5ff308",
   "metadata": {},
   "outputs": [],
   "source": []
  },
  {
   "cell_type": "code",
   "execution_count": 140,
   "id": "61aee704-373c-426b-8ad1-fa0d725937db",
   "metadata": {},
   "outputs": [],
   "source": [
    "metrics_dir = f'metrics/r2_save_{data_name}'\n",
    "os.makedirs(metrics_dir, exist_ok=True)\n",
    "df_r2 = pd.DataFrame(\n",
    "      [r2_log_deg, r2_log_deg_bio, r2_log_deg_dis2p]\n",
    ")\n",
    "df_r2.to_csv(metrics_dir +'/r2_deg.csv')"
   ]
  },
  {
   "cell_type": "code",
   "execution_count": 87,
   "id": "04d725f1-f3f6-4d12-bec0-5ba3a917f1ab",
   "metadata": {},
   "outputs": [],
   "source": [
    "metrics_dir = f'metrics/r2_save_{data_name}'\n",
    "os.makedirs(metrics_dir, exist_ok=True)\n",
    "df_r2 = pd.DataFrame(\n",
    "      [r2_log, r2_log_bio, r2_log_dis2p]\n",
    ")\n",
    "df_r2.to_csv(metrics_dir +'/r2.csv')"
   ]
  },
  {
   "cell_type": "markdown",
   "id": "05ee54bb-6d70-4e30-a1b0-8a58f599a652",
   "metadata": {},
   "source": [
    "# R2 plot"
   ]
  },
  {
   "cell_type": "code",
   "execution_count": null,
   "id": "b74fb74b-cc9c-430a-8f52-d1f81a307d3f",
   "metadata": {},
   "outputs": [],
   "source": []
  },
  {
   "cell_type": "code",
   "execution_count": 63,
   "id": "0615afbe-9a97-4c33-9198-edd27abafea1",
   "metadata": {},
   "outputs": [
    {
     "data": {
      "image/png": "[encoded data removed]",
      "text/plain": [
       "<Figure size 400x300 with 1 Axes>"
      ]
     },
     "metadata": {},
     "output_type": "display_data"
    }
   ],
   "source": [
    "# plt.set_figwidth(2)\n",
    "# plt.set_figheight(4)\n",
    "\n",
    "plt.bar([1], [r2_log], width=0.1, label='CPA')\n",
    "plt.bar([1.5], [r2_log_bio], width=0.1, label='biolord')\n",
    "plt.bar([2], [r2_log_dis2p], width=0.1, label='dis2p')\n",
    "\n",
    "plt.rcParams['figure.figsize'] = [4,4]\n",
    "\n",
    "# c = [1, 3, 2, 1]\n",
    "\n",
    "# plt.errorbar(a, b, yerr=c, fmt=\"o\", color=\"r\")\n",
    "\n",
    "plt.ylabel('R2')\n",
    "\n",
    "plt.xticks([1,1.5,2], ['CPA', 'biolord', 'dis2p'])\n",
    "# plt.legend()\n",
    "plt.show()"
   ]
  },
  {
   "cell_type": "code",
   "execution_count": 74,
   "id": "606471f3-9c4f-431d-8699-f2ee8f29ad54",
   "metadata": {},
   "outputs": [
    {
     "name": "stdout",
     "output_type": "stream",
     "text": [
      "751\n"
     ]
    },
    {
     "data": {
      "text/plain": [
       "751"
      ]
     },
     "execution_count": 74,
     "metadata": {},
     "output_type": "execute_result"
    }
   ],
   "source": [
    "true_x_counts_mean_log = np.log1p(true_x_counts_mean)\n",
    "\n",
    "outliers = 0\n",
    "for i, _ in enumerate(x_pred_dis2p):\n",
    "    if x_pred_dis2p[i] > 10:\n",
    "        outliers = i\n",
    "        print(i)\n",
    "    \n"
   ]
  },
  {
   "cell_type": "code",
   "execution_count": 84,
   "id": "74ecf774-7d8b-408f-9460-74131671eea4",
   "metadata": {},
   "outputs": [
    {
     "data": {
      "text/plain": [
       "pandas.core.series.Series"
      ]
     },
     "execution_count": 84,
     "metadata": {},
     "output_type": "execute_result"
    }
   ],
   "source": [
    "i = outliers\n",
    "plt.scatter(x=torch.cat([true_x_counts_mean_log[:i], true_x_counts_mean_log[i+1:]]), \n",
    "            y=torch.cat([x_pred_dis2p[:i], x_pred_dis2p[i+1:]]))\n",
    "\n",
    "plt.xlabel(\"True X\")\n",
    "plt.ylabel(\"Predicted X\")\n",
    "\n",
    "plt.show()"
   ]
  },
  {
   "cell_type": "code",
   "execution_count": 122,
   "id": "43a7f7c1-9b54-4cf1-8f95-ad341e068c97",
   "metadata": {},
   "outputs": [
    {
     "data": {
      "image/png": "[encoded data removed]",
      "text/plain": [
       "<Figure size 500x500 with 1 Axes>"
      ]
     },
     "metadata": {},
     "output_type": "display_data"
    }
   ],
   "source": [
    "true_x_counts_mean_log = np.log1p(true_x_counts_mean_log)\n",
    "plt.scatter(x=true_x_counts_mean_log, \n",
    "            y=x_pred_dis2p)\n",
    "\n",
    "plt.xlabel(\"True X\")\n",
    "plt.ylabel(\"Predicted X\")\n",
    "\n",
    "plt.show()"
   ]
  },
  {
   "cell_type": "code",
   "execution_count": 149,
   "id": "0af0c8cd-1376-4037-bf65-e23b10a8dcc7",
   "metadata": {},
   "outputs": [],
   "source": [
    "n_top_deg = 100\n",
    "adata.var['name'] = adata.var.index\n",
    "sc.tl.rank_genes_groups(adata, cov_name, method='wilcoxon', key_added=\"wilcoxon\")\n",
    "ranked_genes = sc.get.rank_genes_groups_df(adata, group=cov_value_cf, key='wilcoxon', gene_symbols='name')\n",
    "ranked_genes_names = ranked_genes[ranked_genes['name'].notnull()]['name']\n",
    "deg_names = ranked_genes_names[:n_top_deg]\n",
    "deg_idx = [i for i, _ in enumerate(adata.var['name']) if adata.var['name'][i] in list(deg_names)]"
   ]
  },
  {
   "cell_type": "code",
   "execution_count": 136,
   "id": "ede4c7fa-c67b-447a-9e46-54f30697c42b",
   "metadata": {},
   "outputs": [
    {
     "data": {
      "image/png": "[encoded data removed]",
      "text/plain": [
       "<Figure size 500x500 with 1 Axes>"
      ]
     },
     "metadata": {},
     "output_type": "display_data"
    }
   ],
   "source": [
    "true_x_counts_mean_log = np.log1p(true_x_counts_mean)\n",
    "x_pred_dis2p_log = np.log1p(x_pred_dis2p)\n",
    "\n",
    "plt.scatter(x=true_x_counts_mean[deg_idx], \n",
    "            y=x_pred_dis2p[deg_idx])\n",
    "\n",
    "plt.xlabel(\"True DE genes\")\n",
    "plt.ylabel(\"Predicted DE genes\")\n",
    "\n",
    "plt.show()"
   ]
  },
  {
   "cell_type": "code",
   "execution_count": 151,
   "id": "131dc250-1829-4fbe-82c6-4f372bc9edee",
   "metadata": {},
   "outputs": [
    {
     "data": {
      "image/png": "[encoded data removed]",
      "text/plain": [
       "<Figure size 500x500 with 1 Axes>"
      ]
     },
     "metadata": {},
     "output_type": "display_data"
    }
   ],
   "source": [
    "plt.scatter(x=true_x_counts_mean_log[deg_idx], \n",
    "            y=x_pred_dis2p_log[deg_idx])\n",
    "\n",
    "plt.suptitle('R2 on top 100 DE genes for Heart')\n",
    "\n",
    "plt.xlabel(\"True\")\n",
    "plt.ylabel(\"Predicted\")\n",
    "\n",
    "plt.savefig('metrics/R2_deg_heart.png', dpi=300)\n",
    "\n",
    "plt.show()"
   ]
  },
  {
   "cell_type": "code",
   "execution_count": 153,
   "id": "4517f9ab-9ea9-497f-9478-3f649c5728fd",
   "metadata": {},
   "outputs": [
    {
     "data": {
      "text/plain": [
       "0.9472850156632331"
      ]
     },
     "execution_count": 153,
     "metadata": {},
     "output_type": "execute_result"
    }
   ],
   "source": [
    "from sklearn.metrics import r2_score\n",
    "\n",
    "r2_score(true_x_counts_mean_log[deg_idx], x_pred_dis2p_log[deg_idx])\n"
   ]
  },
  {
   "cell_type": "code",
   "execution_count": null,
   "id": "4fad7272-5210-414c-965a-49316640f53e",
   "metadata": {},
   "outputs": [],
   "source": []
  },
  {
   "cell_type": "markdown",
   "id": "96123300-1f43-4ba2-b027-c2c389e9ad18",
   "metadata": {},
   "source": [
    "# final plot"
   ]
  },
  {
   "cell_type": "code",
   "execution_count": 147,
   "id": "4407345e-b4f5-4556-96d7-dedc8eff6282",
   "metadata": {},
   "outputs": [],
   "source": [
    "\n",
    "\n",
    "r2_df_H = pd.read_csv('metrics/r2_save_HeartAtlas/r2.csv')\n",
    "r2_log_cpa_H, r2_log_bio_H, r2_log_dis2p_H = r2_df_H.iloc[0, 1], r2_df_H.iloc[1, 1], r2_df_H.iloc[2, 1]\n",
    "\n",
    "r2_df_L = pd.read_csv('metrics/r2_save_Herpes/r2.csv')\n",
    "r2_log_cpa_L, r2_log_bio_L, r2_log_dis2p_L = r2_df_L.iloc[0, 1], r2_df_L.iloc[1, 1], r2_df_L.iloc[2, 1]\n",
    "\n",
    "def addlabels(x,y):\n",
    "    for i in range(len(x)):\n",
    "        plt.text(x[i], float(f'{y[i]:.2f}') + 0.007, float(f'{y[i]:.2f}'), ha = 'center')\n",
    "        \n"
   ]
  },
  {
   "cell_type": "code",
   "execution_count": 148,
   "id": "eee4ec1b-5954-47d5-a048-c126cecb6844",
   "metadata": {},
   "outputs": [
    {
     "data": {
      "image/png": "[encoded data removed]",
      "text/plain": [
       "<Figure size 500x500 with 1 Axes>"
      ]
     },
     "metadata": {},
     "output_type": "display_data"
    }
   ],
   "source": [
    "x1, x2 = 1, 1.5\n",
    "\n",
    "plt.bar([x1, x2], [r2_log_cpa_H, r2_log_cpa_L], width=width, label='CPA')\n",
    "\n",
    "addlabels([x1, x2], [r2_log_cpa_H, r2_log_cpa_L])\n",
    "\n",
    "plt.bar([x1+width, x2+width], [r2_log_bio_H, r2_log_bio_L], width=width, label='biolord')\n",
    "\n",
    "addlabels([x1+width, x2+width], [r2_log_bio_H, r2_log_bio_L])\n",
    "\n",
    "plt.bar([x1+width*2, x2+width*2], [r2_log_dis2p_H, r2_log_dis2p_L], width=width, label='dis2p')\n",
    "\n",
    "addlabels([x1+width*2, x2+width*2], [r2_log_dis2p_H, r2_log_dis2p_L])\n",
    "\n",
    "# plt.rcParams['figure.figsize'] = [5,5]\n",
    "\n",
    "plt.ylabel('R2')\n",
    "\n",
    "plt.xticks([x1+width, x2+width], ['Heart', 'Liver'])\n",
    "\n",
    "plt.yticks([i/10 for i in range(11)])\n",
    "\n",
    "plt.legend(loc=(1.05, 0.75))\n",
    "\n",
    "\n",
    "plt.savefig('metrics/R2_all.png', dpi=300)\n",
    "\n",
    "plt.show()"
   ]
  },
  {
   "cell_type": "code",
   "execution_count": 144,
   "id": "67676a6b-8fb7-436e-8f51-6533fae76f21",
   "metadata": {},
   "outputs": [],
   "source": [
    "r2_df_H = pd.read_csv('metrics/r2_save_HeartAtlas/r2_deg.csv')\n",
    "r2_log_cpa_H, r2_log_bio_H, r2_log_dis2p_H = r2_df_H.iloc[0, 1], r2_df_H.iloc[1, 1], r2_df_H.iloc[2, 1]\n",
    "\n",
    "r2_df_L = pd.read_csv('metrics/r2_save_Herpes/r2_deg.csv')\n",
    "r2_log_cpa_L, r2_log_bio_L, r2_log_dis2p_L = r2_df_L.iloc[0, 1], r2_df_L.iloc[1, 1], r2_df_L.iloc[2, 1]\n",
    "\n",
    "def addlabels(x,y):\n",
    "    for i in range(len(x)):\n",
    "        plt.text(x[i], float(f'{y[i]:.2f}') + 0.007, float(f'{y[i]:.2f}'), ha = 'center')\n",
    "        \n"
   ]
  },
  {
   "cell_type": "code",
   "execution_count": 145,
   "id": "0c2b5cbb-93d9-4aab-b2a5-33796e564e01",
   "metadata": {},
   "outputs": [
    {
     "data": {
      "image/png": "[encoded data removed]",
      "text/plain": [
       "<Figure size 500x500 with 1 Axes>"
      ]
     },
     "metadata": {},
     "output_type": "display_data"
    }
   ],
   "source": [
    "x1, x2 = 1, 1.5\n",
    "\n",
    "plt.bar([x1, x2], [r2_log_cpa_H, r2_log_cpa_L], width=width, label='CPA')\n",
    "\n",
    "addlabels([x1, x2], [r2_log_cpa_H, r2_log_cpa_L])\n",
    "\n",
    "plt.bar([x1+width, x2+width], [r2_log_bio_H, r2_log_bio_L], width=width, label='biolord')\n",
    "\n",
    "addlabels([x1+width, x2+width], [r2_log_bio_H, r2_log_bio_L])\n",
    "\n",
    "plt.bar([x1+width*2, x2+width*2], [r2_log_dis2p_H, r2_log_dis2p_L], width=width, label='dis2p')\n",
    "\n",
    "addlabels([x1+width*2, x2+width*2], [r2_log_dis2p_H, r2_log_dis2p_L])\n",
    "\n",
    "# plt.rcParams['figure.figsize'] = [5,5]\n",
    "\n",
    "plt.ylabel('R2')\n",
    "\n",
    "plt.xticks([x1+width, x2+width], ['Heart', 'Liver'])\n",
    "\n",
    "plt.yticks([i/10 for i in range(11)])\n",
    "\n",
    "plt.legend(loc=(1.05, 0.75))\n",
    "\n",
    "plt.savefig('')\n",
    "\n",
    "plt.show()"
   ]
  },
  {
   "cell_type": "code",
   "execution_count": null,
   "id": "ecdfc7d6-022f-4383-9dde-2c70999384a3",
   "metadata": {},
   "outputs": [],
   "source": []
  },
  {
   "cell_type": "code",
   "execution_count": null,
   "id": "8825f5a5-410a-4974-8564-b7c97703506a",
   "metadata": {},
   "outputs": [],
   "source": []
  },
  {
   "cell_type": "code",
   "execution_count": null,
   "id": "105aa80f-542a-48a9-b002-c44db7ccc3cd",
   "metadata": {},
   "outputs": [],
   "source": []
  },
  {
   "cell_type": "code",
   "execution_count": null,
   "id": "24cdd86f-31cf-4bcf-bed3-2bb8ee335610",
   "metadata": {},
   "outputs": [],
   "source": []
  },
  {
   "cell_type": "code",
   "execution_count": 120,
   "id": "cc44109c-23c4-44e1-98c3-d4849cd8148a",
   "metadata": {},
   "outputs": [],
   "source": [
    "width = 0.1\n",
    "x1, x2, x3 = 1, 1.3, 1.6\n",
    "x = [x1, x2, x3]\n",
    "\n",
    "\n",
    "def addlabels(x,y):\n",
    "    for i in range(len(x)):\n",
    "        plt.text(x[i], float(f'{y[i]:.2f}') + 0.007, float(f'{y[i]:.2f}'), ha = 'center')\n",
    "        "
   ]
  },
  {
   "cell_type": "code",
   "execution_count": 121,
   "id": "701e9634-fd1c-427c-9edc-8c18e526631e",
   "metadata": {},
   "outputs": [
    {
     "data": {
      "image/png": "[encoded data removed]",
      "text/plain": [
       "<Figure size 500x500 with 1 Axes>"
      ]
     },
     "metadata": {},
     "output_type": "display_data"
    }
   ],
   "source": [
    "\n",
    "plt.bar([x1, x2, x3], [r2_log_cpa_H, r2_log_bio_H, r2_log_dis2p_H], width=width, label='Heart')\n",
    "\n",
    "addlabels([x1, x2, x3], [r2_log_cpa_H, r2_log_bio_H, r2_log_dis2p_H])\n",
    "\n",
    "plt.bar([x1+width, x2+width, x3+width], [r2_log_cpa_L, r2_log_bio_L, r2_log_dis2p_L], width=width, label='Liver')\n",
    "\n",
    "addlabels([x1+width, x2+width, x3+width], [r2_log_cpa_L, r2_log_bio_L, r2_log_dis2p_L])\n",
    "\n",
    "# plt.rcParams['figure.figsize'] = [5,5]\n",
    "\n",
    "plt.ylabel('R2')\n",
    "\n",
    "plt.xticks([x1+width/2, x2+width/2, x3+width/2], ['CPA', 'biolord', 'dis2p'])\n",
    "\n",
    "plt.yticks([i/10 for i in range(11)])\n",
    "\n",
    "plt.legend()\n",
    "\n",
    "plt.show()"
   ]
  },
  {
   "cell_type": "code",
   "execution_count": null,
   "id": "71d716ab-0987-460b-9b9a-d0cd068d6a70",
   "metadata": {},
   "outputs": [],
   "source": []
  }
 ],
 "metadata": {
  "environment": {
   "kernel": "scfair_dev_20231003_env",
   "name": "pytorch-gpu.1-13.m110",
   "type": "gcloud",
   "uri": "gcr.io/deeplearning-platform-release/pytorch-gpu.1-13:m110"
  },
  "kernelspec": {
   "display_name": "scfair_dev_20231003_env",
   "language": "python",
   "name": "scfair_dev_20231003_env"
  },
  "language_info": {
   "codemirror_mode": {
    "name": "ipython",
    "version": 3
   },
   "file_extension": ".py",
   "mimetype": "text/x-python",
   "name": "python",
   "nbconvert_exporter": "python",
   "pygments_lexer": "ipython3",
   "version": "3.10.12"
  }
 },
 "nbformat": 4,
 "nbformat_minor": 5
}
