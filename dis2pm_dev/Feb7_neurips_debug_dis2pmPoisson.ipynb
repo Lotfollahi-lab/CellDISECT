{
 "cells": [
  {
   "cell_type": "markdown",
   "id": "2996a46c-742a-45ae-b233-6070a8df96a6",
   "metadata": {},
   "source": [
    "Use the environment found on GCP at `/nfs/team205/sm58/packages/dis2p_trials/scfair/envs/dis2pm`"
   ]
  },
  {
   "cell_type": "code",
   "execution_count": 1,
   "id": "76769fb8-4321-4603-895c-10bd8744936f",
   "metadata": {},
   "outputs": [],
   "source": [
    "#enable autoreload\n",
    "%load_ext autoreload\n",
    "%autoreload 2\n",
    "%matplotlib inline\n",
    "%reload_ext autoreload\n"
   ]
  },
  {
   "cell_type": "code",
   "execution_count": 2,
   "id": "f6b229df-b8f9-435b-af68-f177151d16c7",
   "metadata": {},
   "outputs": [
    {
     "name": "stderr",
     "output_type": "stream",
     "text": [
      "/nfs/team205/sm58/packages/dis2p_trials/scfair/envs/dis2pm/lib/python3.10/site-packages/scvi/_settings.py:63: UserWarning: Since v1.0.0, scvi-tools no longer uses a random seed by default. Run `scvi.settings.seed = 0` to reproduce results from previous versions.\n",
      "  self.seed = seed\n",
      "/nfs/team205/sm58/packages/dis2p_trials/scfair/envs/dis2pm/lib/python3.10/site-packages/scvi/_settings.py:70: UserWarning: Setting `dl_pin_memory_gpu_training` is deprecated in v1.0 and will be removed in v1.1. Please pass in `pin_memory` to the data loaders instead.\n",
      "  self.dl_pin_memory_gpu_training = (\n",
      "Global seed set to 0\n"
     ]
    }
   ],
   "source": [
    "import os\n",
    "os.environ['PROTOCOL_BUFFERS_PYTHON_IMPLEMENTATION']='python'\n",
    "\n",
    "import scvi\n",
    "scvi.settings.seed = 0\n",
    "import scanpy as sc\n",
    "import anndata as ad\n",
    "import torch\n",
    "import numpy as np\n",
    "import pandas as pd\n",
    "import json\n",
    "from datetime import datetime\n",
    "from scipy.sparse import csr_matrix\n",
    "torch.set_float32_matmul_precision('medium')\n",
    "import warnings\n",
    "warnings.simplefilter(\"ignore\", UserWarning)\n",
    "from sklearn.model_selection import train_test_split\n",
    "import random\n",
    "\n",
    "# import from scfair-reproducibility\n",
    "from scfair_reproducibility.benchmark_VAE.vi import VI\n",
    "from scfair_reproducibility.evaluation.metrics import *\n",
    "\n",
    "# import from scib_metrics\n",
    "from scfair_reproducibility.scib_metrics_dev.src.scib_metrics.benchmark import Benchmarker\n",
    "\n",
    "# other methods\n",
    "# import cpa\n",
    "# from data.biolord_dev.src import biolord"
   ]
  },
  {
   "cell_type": "code",
   "execution_count": 3,
   "id": "f5cdceb8-7995-4dfe-9166-ec9327ad90b5",
   "metadata": {},
   "outputs": [],
   "source": [
    "#os.environ[\"CUDA_VISIBLE_DEVICES\"]=\"\""
   ]
  },
  {
   "cell_type": "code",
   "execution_count": 4,
   "id": "146ea27d-c50a-4c59-a6a6-203de0c4b188",
   "metadata": {},
   "outputs": [],
   "source": [
    "from dis2pm.dis2pmPoissonvae import *\n",
    "from dis2pm.dis2pmPoissonvi import *\n",
    "from dis2pm.ood_m import *\n",
    "from dis2pm.trainingplan_m import *\n",
    "from dis2pm.utils_m import *"
   ]
  },
  {
   "cell_type": "markdown",
   "id": "5217720e-c7e9-4c02-8140-4f5581aaa13d",
   "metadata": {},
   "source": [
    "# prepare data: Neurips 2021 \n",
    "\n",
    "https://openproblems.bio/events/2021-09_neurips/ \n",
    "\n",
    "https://www.ncbi.nlm.nih.gov/geo/query/acc.cgi?acc=GSE194122\n",
    "\n",
    "\n",
    "Data downloaded with `wget https://ftp.ncbi.nlm.nih.gov/geo/series/GSE194nnn/GSE194122/suppl/GSE194122%5Fopenproblems%5Fneurips2021%5Fmultiome%5FBMMC%5Fprocessed%2Eh5ad%2Egz`"
   ]
  },
  {
   "cell_type": "markdown",
   "id": "35f396bc-3e8f-4b69-9321-d0f6fbd8cd43",
   "metadata": {},
   "source": [
    "Define function to convert covariate names to numerical values"
   ]
  },
  {
   "cell_type": "code",
   "execution_count": 5,
   "id": "23478535-4ebf-4333-b5aa-558bbb79cdc2",
   "metadata": {},
   "outputs": [],
   "source": [
    "def create_cats_idx(adata, cats):\n",
    "    # create numerical index for each attr in cats\n",
    "\n",
    "    for i in range(len(cats)):\n",
    "        values = list(set(adata.obs[cats[i]]))\n",
    "\n",
    "        val_to_idx = {v: values.index(v) for v in values}\n",
    "\n",
    "        idx_list = [val_to_idx[v] for v in adata.obs[cats[i]]]\n",
    "\n",
    "        adata.obs[cats[i] + '_idx'] = pd.Categorical(idx_list)\n",
    "\n",
    "    return adata"
   ]
  },
  {
   "cell_type": "markdown",
   "id": "a28d3c0e-cf1a-4380-9030-3392c1f54c51",
   "metadata": {},
   "source": [
    "Load and subsample the heart atlas dataset from Litvinukova et al. Nature 2020"
   ]
  },
  {
   "cell_type": "code",
   "execution_count": 6,
   "id": "4cb7686c-b5a0-4550-9008-dbc2540c31c4",
   "metadata": {},
   "outputs": [
    {
     "name": "stderr",
     "output_type": "stream",
     "text": [
      "/nfs/team205/sm58/packages/dis2p_trials/scfair/envs/dis2pm/lib/python3.10/site-packages/anndata/__init__.py:51: FutureWarning: `anndata.read` is deprecated, use `anndata.read_h5ad` instead. `ad.read` will be removed in mid 2024.\n",
      "  warnings.warn(\n"
     ]
    },
    {
     "name": "stdout",
     "output_type": "stream",
     "text": [
      "AnnData object with n_obs × n_vars = 69249 × 129921\n",
      "    obs: 'GEX_pct_counts_mt', 'GEX_n_counts', 'GEX_n_genes', 'GEX_size_factors', 'GEX_phase', 'ATAC_nCount_peaks', 'ATAC_atac_fragments', 'ATAC_reads_in_peaks_frac', 'ATAC_blacklist_fraction', 'ATAC_nucleosome_signal', 'cell_type', 'batch', 'ATAC_pseudotime_order', 'GEX_pseudotime_order', 'Samplename', 'Site', 'DonorNumber', 'Modality', 'VendorLot', 'DonorID', 'DonorAge', 'DonorBMI', 'DonorBloodType', 'DonorRace', 'Ethnicity', 'DonorGender', 'QCMeds', 'DonorSmoker'\n",
      "    var: 'feature_types', 'gene_id'\n",
      "    uns: 'ATAC_gene_activity_var_names', 'dataset_id', 'genome', 'organism'\n",
      "    obsm: 'ATAC_gene_activity', 'ATAC_lsi_full', 'ATAC_lsi_red', 'ATAC_umap', 'GEX_X_pca', 'GEX_X_umap'\n",
      "    layers: 'counts'\n"
     ]
    }
   ],
   "source": [
    "adata = sc.read(\"/nfs/team205/sm58/packages/dis2p_trials/scfair/dis2pm_dev/data/GSE194122_openproblems_neurips2021_multiome_BMMC_processed.h5ad\")\n",
    "print(adata)"
   ]
  },
  {
   "cell_type": "code",
   "execution_count": 7,
   "id": "af17b56a-93d1-4cb3-8c84-b3af60202624",
   "metadata": {},
   "outputs": [
    {
     "name": "stdout",
     "output_type": "stream",
     "text": [
      "feature_types\n",
      "ATAC    116490\n",
      "GEX      13431\n",
      "Name: count, dtype: int64\n"
     ]
    }
   ],
   "source": [
    "print(adata.var[\"feature_types\"].value_counts())"
   ]
  },
  {
   "cell_type": "code",
   "execution_count": 8,
   "id": "438194ef-18da-450d-b8b9-e69169f300c5",
   "metadata": {},
   "outputs": [
    {
     "name": "stdout",
     "output_type": "stream",
     "text": [
      "batch\n",
      "s4d8     9876\n",
      "s4d1     8023\n",
      "s3d10    6781\n",
      "s1d2     6740\n",
      "s1d1     6224\n",
      "s2d4     6111\n",
      "s2d5     4895\n",
      "s3d3     4325\n",
      "s4d9     4325\n",
      "s1d3     4279\n",
      "s2d1     4220\n",
      "s3d7     1771\n",
      "s3d6     1679\n",
      "Name: count, dtype: int64\n"
     ]
    }
   ],
   "source": [
    "print(adata.obs[\"batch\"].value_counts())"
   ]
  },
  {
   "cell_type": "code",
   "execution_count": 9,
   "id": "ecbca7f8-1ecb-423f-96a6-71cc3db18b4c",
   "metadata": {},
   "outputs": [
    {
     "name": "stdout",
     "output_type": "stream",
     "text": [
      "DonorID\n",
      "15078    18467\n",
      "19593     9876\n",
      "18303     8604\n",
      "28483     6781\n",
      "10886     6740\n",
      "12710     6111\n",
      "16710     4895\n",
      "13272     4325\n",
      "11466     1771\n",
      "28045     1679\n",
      "Name: count, dtype: int64\n"
     ]
    }
   ],
   "source": [
    "print(adata.obs[\"DonorID\"].value_counts())"
   ]
  },
  {
   "cell_type": "code",
   "execution_count": 10,
   "id": "7fcb5d79-4b50-4b35-a29a-57cc1b366e4b",
   "metadata": {},
   "outputs": [],
   "source": [
    "\n",
    "# preprocess dataset\n",
    "sc.pp.filter_genes(adata, min_counts=3)\n",
    "adata.layers[\"counts\"] = adata.X.copy()\n",
    "sc.pp.normalize_total(adata, target_sum=1e4)\n",
    "#sc.pp.log1p(adata)\n",
    "adata.raw = adata\n",
    "# sc.pp.highly_variable_genes(\n",
    "#     adata,\n",
    "#     n_top_genes=1200,\n",
    "#     subset=True,\n",
    "#     layer=\"counts\",\n",
    "#     flavor=\"seurat_v3\",\n",
    "# )\n",
    "\n",
    "# print(adata)\n",
    "# print(adata[:,1198].X)\n",
    "# adata_atac = adata[:, -200:].copy()\n",
    "# adata_rna = adata[:, :1000].copy()\n",
    "# adata_obs = adata.obs.copy()\n",
    "# adata_uns = adata.uns.copy()\n",
    "# adata_atac.X.data = np.ones(adata_atac.X.data.shape)\n",
    "# adata = ad.concat([adata_rna, adata_atac], axis=1)\n",
    "# adata.obs = adata_obs\n",
    "# adata.uns = adata_uns\n",
    "# print(adata[:,:].X.sum(axis=0))\n",
    "# print(adata)\n",
    "\n",
    "# specify name of dataset \n",
    "data_name = 'neurips2021'\n",
    "\n",
    "# specify attributes\n",
    "cats = ['DonorID', 'batch', 'Ethnicity']\n",
    "\n",
    "# create numerical index for each attr in cats\n",
    "create_cats_idx(adata, cats)\n",
    "\n",
    "# save adata\n",
    "# adata.write_h5ad('data/heart_preprocessed1200.h5ad')\n",
    "\n",
    "today = datetime.today().strftime('%Y-%m-%d')"
   ]
  },
  {
   "cell_type": "code",
   "execution_count": 11,
   "id": "09afe5b3-bf1e-42b9-b19c-26889c701d30",
   "metadata": {},
   "outputs": [
    {
     "name": "stdout",
     "output_type": "stream",
     "text": [
      "feature_types\n",
      "ATAC    116490\n",
      "GEX      13431\n",
      "Name: count, dtype: int64\n"
     ]
    }
   ],
   "source": [
    "print(adata.var[\"feature_types\"].value_counts())"
   ]
  },
  {
   "cell_type": "markdown",
   "id": "a5dfb58c-a2ae-4c80-a575-cdf914ebd674",
   "metadata": {},
   "source": [
    "# train model: dis2pm(n_cf=1)"
   ]
  },
  {
   "cell_type": "code",
   "execution_count": 12,
   "id": "e94f01b8-3ff9-4710-a537-59058524f9a3",
   "metadata": {},
   "outputs": [],
   "source": [
    "os.environ['CUDA_LAUNCH_BLOCKING'] = \"1\"\n"
   ]
  },
  {
   "cell_type": "code",
   "execution_count": 16,
   "id": "583aaf20-11d2-4e68-9ff8-8e3b8296fe4f",
   "metadata": {},
   "outputs": [
    {
     "name": "stdout",
     "output_type": "stream",
     "text": [
      "AnnData object with n_obs × n_vars = 69249 × 129921\n",
      "    obs: 'GEX_pct_counts_mt', 'GEX_n_counts', 'GEX_n_genes', 'GEX_size_factors', 'GEX_phase', 'ATAC_nCount_peaks', 'ATAC_atac_fragments', 'ATAC_reads_in_peaks_frac', 'ATAC_blacklist_fraction', 'ATAC_nucleosome_signal', 'cell_type', 'batch', 'ATAC_pseudotime_order', 'GEX_pseudotime_order', 'Samplename', 'Site', 'DonorNumber', 'Modality', 'VendorLot', 'DonorID', 'DonorAge', 'DonorBMI', 'DonorBloodType', 'DonorRace', 'Ethnicity', 'DonorGender', 'QCMeds', 'DonorSmoker', 'DonorID_idx', 'batch_idx', 'Ethnicity_idx', '_scvi_batch', '_scvi_labels'\n",
      "    var: 'feature_types', 'gene_id', 'n_counts'\n",
      "    uns: 'ATAC_gene_activity_var_names', 'dataset_id', 'genome', 'organism', '_scvi_uuid', '_scvi_manager_uuid'\n",
      "    obsm: 'ATAC_gene_activity', 'ATAC_lsi_full', 'ATAC_lsi_red', 'ATAC_umap', 'GEX_X_pca', 'GEX_X_umap', '_scvi_extra_categorical_covs'\n",
      "    layers: 'counts'\n",
      "13431\n",
      "debug4\n",
      "n_cats_per_cov is (10, 13, 2)\n"
     ]
    },
    {
     "name": "stderr",
     "output_type": "stream",
     "text": [
      "GPU available: True (cuda), used: True\n",
      "TPU available: False, using: 0 TPU cores\n",
      "IPU available: False, using: 0 IPUs\n",
      "HPU available: False, using: 0 HPUs\n",
      "LOCAL_RANK: 0 - CUDA_VISIBLE_DEVICES: [0]\n",
      "/nfs/team205/sm58/packages/dis2p_trials/scfair/envs/dis2pm/lib/python3.10/site-packages/lightning/pytorch/core/optimizer.py:321: RuntimeWarning: The lr scheduler dict contains the key(s) ['monitor'], but the keys will be ignored. You need to call `lr_scheduler.step()` manually in manual optimization.\n",
      "  rank_zero_warn(\n"
     ]
    },
    {
     "name": "stdout",
     "output_type": "stream",
     "text": [
      "Epoch 20/20: 100%|█| 20/20 [47:03<00:00, 139.89s/it, v_num=1, loss_validation=3.62e+6, x_0_validation=4.34e+3, x_1_validation=4.43e+3, x_2_validation=4.45e+3, x_3_validation=4.42e+3, rec_x_cf_validation=5.19e+3, z_1_validation=4"
     ]
    },
    {
     "name": "stderr",
     "output_type": "stream",
     "text": [
      "`Trainer.fit` stopped: `max_epochs=20` reached.\n"
     ]
    },
    {
     "name": "stdout",
     "output_type": "stream",
     "text": [
      "Epoch 20/20: 100%|█| 20/20 [47:03<00:00, 141.16s/it, v_num=1, loss_validation=3.62e+6, x_0_validation=4.34e+3, x_1_validation=4.43e+3, x_2_validation=4.45e+3, x_3_validation=4.42e+3, rec_x_cf_validation=5.19e+3, z_1_validation=4\n"
     ]
    }
   ],
   "source": [
    "# train params\n",
    "epochs = 20 #400\n",
    "batch_size = 256 #7 #128\n",
    "cf_weight = 1\n",
    "beta = 1\n",
    "clf_weight = 50\n",
    "adv_clf_weight = 10\n",
    "adv_period = 1\n",
    "n_cf = 1\n",
    "\n",
    "# architecture params\n",
    "n_layers=1\n",
    "\n",
    "train_dict = {'max_epochs': epochs, 'batch_size': batch_size, 'cf_weight': cf_weight,\n",
    "              'beta': beta, 'clf_weight': clf_weight, 'adv_clf_weight': adv_clf_weight,\n",
    "              'adv_period': adv_period, 'n_cf': n_cf}\n",
    "\n",
    "module_name = 'dis2pmPoisson'\n",
    "pre_path = f'models/{module_name}'\n",
    "if not os.path.exists(pre_path):\n",
    "    os.makedirs(pre_path)\n",
    "\n",
    "# specify a name for your model\n",
    "model_name =  f'{today},{module_name},{data_name},' + f'n_layers={n_layers},' + ','.join(k + '=' + str(v) for k, v in train_dict.items())\n",
    "\n",
    "# load model (if trained before)\n",
    "# try:\n",
    "#     model = Dis2pmVI.load(f\"{pre_path}/{model_name}\", adata=adata)\n",
    "\n",
    "# # trains the model (if not trained before) and save it into: pre_path + model_name\n",
    "# except:\n",
    "\n",
    "Dis2pmPoissonVI.setup_anndata(\n",
    "    adata,\n",
    "    layer='counts',\n",
    "    categorical_covariate_keys=cats,\n",
    "    continuous_covariate_keys=[]\n",
    ")\n",
    "print(adata)\n",
    "model = Dis2pmPoissonVI(adata, n_genes=13431, n_regions=116490, n_layers=n_layers)\n",
    "model.train( **train_dict, plan_kwargs={'lr': 0.001},)\n",
    "model.save(f\"{pre_path}/{model_name}\")"
   ]
  },
  {
   "cell_type": "code",
   "execution_count": 10,
   "id": "bd305cfd-5cc0-485a-be56-56e9b274a2f0",
   "metadata": {},
   "outputs": [],
   "source": [
    "# # n_layers=1\n",
    "# # epochs = 50 #400\n",
    "# # batch_size = 4 #128\n",
    "# # cf_weight = 1\n",
    "# # beta = 1\n",
    "# # clf_weight = 50\n",
    "# # adv_clf_weight = 10\n",
    "# # adv_period = 1\n",
    "# # n_cf = 1\n",
    "# # n_genes=1000\n",
    "# # n_regions=200\n",
    "\n",
    "# n_latent_shared = 10\n",
    "# n_input_regions = 200\n",
    "# n_layers= 1 \n",
    "# n_hidden=128 \n",
    "# deeply_inject_covariates=True,\n",
    "# use_batch_norm=True,\n",
    "# use_layer_norm=False,\n",
    "# n_cats_per_cov = (11, 4, 2, 6)\n",
    "\n",
    "# x_decoder_acc =  DecoderPeakVI(\n",
    "#                     n_latent_shared,\n",
    "#                     n_input_regions,\n",
    "#                     n_cat_list=n_cats_per_cov,\n",
    "#                     n_layers=n_layers,\n",
    "#                     n_hidden=n_hidden,\n",
    "#                     deep_inject_covariates=deeply_inject_covariates,\n",
    "#                     use_batch_norm=use_batch_norm,\n",
    "#                     use_layer_norm=use_layer_norm,\n",
    "#                 )\n",
    "    \n",
    "# idx=1\n",
    "# x_=torch.tensor([[ 0.,  0.,  0.,  0.,  0.,  0.,  0.,  0.,  0.,  0.,  0.,  0.,  0.,  0.,\n",
    "#           0.,  0.,  0.,  0.,  0.,  0.,  0.,  0.,  0.,  0.,  0.,  0.,  0.,  0.,\n",
    "#           0.,  0.,  0.,  0.,  0.,  0.,  0.,  0.,  0.,  0.,  0.,  0.,  0.,  0.,\n",
    "#           0.,  0.,  0.,  0.,  0.,  0.,  0.,  0.,  0.,  0.,  0.,  0.,  0.,  0.,\n",
    "#           0.,  0.,  0.,  0.,  0.,  0.,  1.,  0.,  0.,  0.,  0.,  0.,  0.,  0.,\n",
    "#           0.,  0.,  0.,  0.,  0.,  0.,  0.,  0.,  0.,  0.,  0.,  0.,  0.,  0.,\n",
    "#           1.,  0.,  0.,  0.,  0.,  0.,  0.,  0.,  0.,  0.,  0.,  0.,  0.,  0.,\n",
    "#           0.,  1.,  0.,  0.,  0.,  0.,  0.,  0.,  0.,  0.,  0.,  0.,  0.,  0.,\n",
    "#           0.,  0.,  0.,  0.,  0.,  0.,  0.,  0.,  0.,  0.,  0.,  0.,  0.,  0.,\n",
    "#           0.,  0.,  0.,  0.,  0.,  0.,  0.,  0.,  0.,  0.,  0.,  0.,  0.,  0.,\n",
    "#           0.,  0.,  0.,  0.,  0.,  0.,  0.,  0.,  0.,  0.,  0.,  0.,  0.,  0.,\n",
    "#           0.,  0.,  0.,  0.,  0.,  0.,  0.,  0.,  0.,  0.,  0.,  0.,  0.,  0.,\n",
    "#           0.,  0.,  0.,  0.,  0.,  0.,  0.,  0.,  0.,  0.,  1.,  0.,  1.,  0.,\n",
    "#           0.,  0.,  0.,  0.,  0.,  0.,  0.,  0.,  0.,  0.,  0.,  0.,  2.,  2.,\n",
    "#           1.,  0.,  0.,  0.],\n",
    "#         [ 0.,  0.,  1.,  0.,  0.,  0.,  0.,  0.,  0.,  0.,  0.,  0.,  0.,  0.,\n",
    "#           0.,  0.,  0.,  0.,  1.,  0.,  0.,  1.,  0.,  0.,  0.,  0.,  0.,  0.,\n",
    "#           0.,  0.,  1.,  0.,  0.,  0.,  0.,  0.,  1.,  0.,  0.,  0.,  0.,  0.,\n",
    "#           0.,  0.,  0.,  0.,  0.,  0.,  0.,  0.,  0.,  0.,  0.,  0.,  1.,  0.,\n",
    "#           0.,  4.,  0.,  0.,  0.,  1.,  0.,  0.,  0.,  0.,  0.,  0.,  0.,  0.,\n",
    "#           0.,  0.,  0.,  0.,  0.,  1.,  0.,  0.,  0.,  0.,  0.,  0.,  0.,  0.,\n",
    "#           0.,  0.,  0.,  0.,  0.,  0.,  0.,  0.,  0.,  0.,  0.,  0.,  0.,  0.,\n",
    "#           0.,  0.,  0.,  0.,  0.,  0.,  0.,  0.,  1.,  0.,  0.,  0.,  0.,  0.,\n",
    "#           0.,  0.,  0.,  0.,  0.,  0.,  0.,  0.,  0.,  0.,  0.,  0.,  0.,  1.,\n",
    "#           0.,  0.,  0.,  0.,  1.,  0.,  0.,  0.,  0.,  0.,  0.,  1.,  0.,  0.,\n",
    "#           0.,  0.,  0.,  0.,  0.,  0.,  0.,  0.,  0.,  0.,  0.,  0.,  0.,  0.,\n",
    "#           0.,  0.,  0.,  0.,  0.,  0.,  0.,  0.,  0.,  0.,  0.,  0.,  0.,  0.,\n",
    "#           0.,  0.,  0.,  0.,  0.,  0.,  1.,  0.,  0.,  0.,  0.,  0.,  0.,  0.,\n",
    "#           0.,  0.,  0.,  0.,  0.,  0.,  1.,  0.,  0.,  0.,  0.,  0.,  1.,  2.,\n",
    "#           6.,  2.,  1.,  5.],\n",
    "#         [ 0.,  0.,  7.,  0.,  0.,  0.,  0.,  0.,  0.,  0.,  0.,  1.,  0.,  0.,\n",
    "#           1.,  0.,  0.,  0.,  0.,  0.,  0.,  0.,  0.,  3.,  0.,  0.,  0.,  0.,\n",
    "#           0.,  0.,  0.,  0.,  0.,  0.,  0.,  0.,  0.,  0.,  0.,  0.,  0.,  0.,\n",
    "#           0.,  0.,  0.,  0.,  0.,  0.,  2.,  0.,  0.,  2.,  0.,  0.,  0.,  1.,\n",
    "#           0.,  4.,  0.,  0.,  0.,  0.,  0.,  0.,  0.,  0.,  0.,  0.,  0.,  0.,\n",
    "#           0.,  0.,  0.,  0.,  0.,  0.,  0.,  0.,  0.,  0.,  1.,  0.,  0.,  0.,\n",
    "#           0.,  2.,  1.,  0.,  0.,  0.,  0.,  0.,  0.,  0.,  0.,  0.,  0.,  0.,\n",
    "#           0.,  0.,  0.,  0.,  0.,  0.,  0.,  2.,  2.,  0.,  0.,  0.,  0.,  0.,\n",
    "#           1.,  0.,  2.,  0.,  0.,  0.,  0.,  0.,  0.,  0.,  0.,  0.,  0.,  0.,\n",
    "#           3.,  0.,  1.,  0.,  0.,  0.,  0.,  0.,  0.,  0.,  0.,  0.,  0.,  4.,\n",
    "#           0.,  1.,  0.,  0.,  0.,  0.,  0.,  0.,  0.,  0.,  0.,  0.,  0.,  3.,\n",
    "#           0.,  0.,  2.,  0.,  0.,  0.,  0.,  0.,  0.,  0.,  0.,  2.,  0.,  0.,\n",
    "#           0.,  1.,  0.,  0.,  0.,  0.,  0.,  0.,  0.,  0.,  0.,  0.,  0.,  0.,\n",
    "#           0.,  0.,  0.,  0.,  0.,  0.,  2.,  0.,  0.,  0.,  0., 10., 26., 38.,\n",
    "#          34., 22., 14., 23.],\n",
    "#         [ 0.,  0.,  0.,  0.,  0.,  0.,  0.,  1.,  0.,  0.,  0.,  0.,  0.,  0.,\n",
    "#           0.,  0.,  0.,  0.,  0.,  0.,  0.,  0.,  0.,  0.,  0.,  0.,  0.,  0.,\n",
    "#           0.,  0.,  0.,  0.,  0.,  0.,  0.,  0.,  0.,  0.,  0.,  0.,  0.,  0.,\n",
    "#           0.,  0.,  0.,  0.,  0.,  0.,  0.,  0.,  0.,  0.,  0.,  0.,  0.,  0.,\n",
    "#           0.,  0.,  0.,  0.,  0.,  0.,  0.,  0.,  0.,  0.,  0.,  0.,  0.,  0.,\n",
    "#           0.,  0.,  0.,  0.,  0.,  0.,  0.,  0.,  0.,  0.,  0.,  0.,  0.,  0.,\n",
    "#           0.,  0.,  0.,  0.,  0.,  0.,  0.,  0.,  0.,  0.,  0.,  0.,  0.,  0.,\n",
    "#           0.,  0.,  0.,  0.,  0.,  0.,  0.,  0.,  0.,  0.,  0.,  0.,  0.,  0.,\n",
    "#           0.,  0.,  0.,  0.,  0.,  0.,  0.,  0.,  0.,  0.,  0.,  0.,  0.,  0.,\n",
    "#           0.,  0.,  0.,  0.,  0.,  0.,  0.,  0.,  0.,  0.,  0.,  1.,  0.,  0.,\n",
    "#           0.,  0.,  0.,  0.,  0.,  0.,  0.,  0.,  0.,  0.,  0.,  0.,  0.,  0.,\n",
    "#           0.,  0.,  0.,  0.,  0.,  0.,  0.,  0.,  0.,  0.,  0.,  0.,  0.,  0.,\n",
    "#           0.,  0.,  0.,  0.,  0.,  0.,  0.,  0.,  0.,  0.,  0.,  0.,  0.,  1.,\n",
    "#           0.,  0.,  0.,  0.,  0.,  0.,  0.,  0.,  0.,  0.,  0.,  0.,  0.,  0.,\n",
    "#           0.,  0.,  0.,  0.]] )\n",
    "\n",
    "\n",
    "# cat_cov_ = torch.tensor( [[8., 0., 1., 2.],\n",
    "#         [2., 2., 1., 1.],\n",
    "#         [2., 0., 1., 2.],\n",
    "#         [8., 3., 0., 4.]] )\n",
    "# detach_x=False\n",
    "# detach_z=False\n",
    "\n",
    "\n",
    "# Dis2pmVI.setup_anndata(\n",
    "#     adata,\n",
    "#     layer='counts',\n",
    "#     categorical_covariate_keys=cats,\n",
    "#     continuous_covariate_keys=[]\n",
    "# )\n",
    "\n",
    "# # model = Dis2pmVI(adata, n_genes=1000, n_regions=200, n_layers=n_layers)\n",
    "\n",
    "# model._module_cls.sub_forward_acc(idx=idx + 1, x=x_, cat_covs=cat_cov_)\n",
    "# #model.Dis2pmVAE.sub_forward_acc(idx=idx + 1, x=x_, cat_covs=cat_cov_)\n",
    "\n",
    "\n",
    "# n_cats_per_cov = (\n",
    "#     self.adata_manager.get_state_registry(\n",
    "#         REGISTRY_KEYS.CAT_COVS_KEY\n",
    "#     ).n_cats_per_key\n",
    "#     if REGISTRY_KEYS.CAT_COVS_KEY in self.adata_manager.data_registry\n",
    "#     else None\n",
    "# )\n",
    "# # self.module = self._module_cls(\n",
    "# #     #n_input_genes=self.summary_stats.n_vars,\n",
    "# #     n_input_genes=n_genes,\n",
    "# #     n_input_regions=n_regions,\n",
    "# #     n_cats_per_cov=n_cats_per_cov,\n",
    "# #     n_hidden=n_hidden,\n",
    "# #     n_latent_shared=n_latent_shared,\n",
    "# #     n_latent_attribute=n_latent_attribute,\n",
    "# #     n_layers=n_layers,\n",
    "# #     dropout_rate=dropout_rate,\n",
    "# #     gene_likelihood=gene_likelihood,\n",
    "# #     latent_distribution=latent_distribution,\n",
    "# #     **model_kwargs,\n",
    "# # # )\n",
    "\n",
    "\n",
    "# # model1 = Dis2pmVAE(\n",
    "# #         n_input_genes=n_genes,\n",
    "# #     n_input_regions=n_regions,\n",
    "# #     n_cats_per_cov=n_cats_per_cov,\n",
    "# #     n_hidden=n_hidden,\n",
    "# #     n_latent_shared=n_latent_shared,\n",
    "# #     n_latent_attribute=n_latent_attribute,\n",
    "# #     n_layers=n_layers,\n",
    "# #     dropout_rate=dropout_rate,\n",
    "# #     gene_likelihood=gene_likelihood,\n",
    "# #     latent_distribution=latent_distribution,\n",
    "# #     **model_kwargs,\n",
    "# # )\n",
    "    \n",
    "# cat_covs =cat_cov_\n",
    "# if detach_x:\n",
    "#     x_ = x.detach()\n",
    "\n",
    "# library = torch.ones(x_.size(dim=0) ) \n",
    "\n",
    "# cat_in = torch.split(cat_covs, 1, dim=1)\n",
    "\n",
    "# qz, z = (self.z_encoders_list_acc[idx](x_, *cat_in))\n",
    "# if detach_z:\n",
    "#     z = z.detach()\n",
    "\n",
    "# dec_cats = [cat_in[j] for j in range(len(cat_in)) if j != idx-1]\n",
    "\n",
    "# x_decoder = x_decoder_acc\n",
    "\n",
    "# px_scale, px_r, px_rate, px_dropout = x_decoder(\n",
    "#     self.dispersion,\n",
    "#     z,\n",
    "#     library,\n",
    "#     *dec_cats\n",
    "# )     "
   ]
  },
  {
   "cell_type": "markdown",
   "id": "0a262059-dbd1-4640-a187-244fa70c5cd9",
   "metadata": {},
   "source": [
    "# get latent space"
   ]
  },
  {
   "cell_type": "code",
   "execution_count": 11,
   "id": "9fd04dd0-7257-43f6-bdc4-fa6608601bb1",
   "metadata": {},
   "outputs": [],
   "source": [
    "# # load model\n",
    "# pre_path = f'models/dis2pm'\n",
    "# model_name = f'{today},dis2pm,HeartAtlas,n_layers=1,max_epochs=50,batch_size=128,cf_weight=1,beta=1,clf_weight=50,adv_clf_weight=10,adv_period=1,n_cf=1'\n",
    "# model = Dis2pmVI.load(f\"{pre_path}/{model_name}\", adata=adata)\n",
    "\n",
    "# # Z_0\n",
    "# adata.obsm[f'dis2p_Z_0'] = model.get_latent_representation(nullify_cat_covs_indices=[s for s in range(len(cats))], nullify_shared=False)\n",
    "\n",
    "# for i in range(len(cats)):\n",
    "#     null_idx = [s for s in range(len(cats)) if s != i]\n",
    "#     # Z_i\n",
    "#     print(model.get_latent_representation(nullify_cat_covs_indices=null_idx, nullify_shared=True))\n",
    "#     adata.obsm[f'dis2p_Z_{i+1}'] = model.get_latent_representation(nullify_cat_covs_indices=null_idx, nullify_shared=True)\n",
    "#     # Z_{-i}\n",
    "#     print(  model.get_latent_representation(nullify_cat_covs_indices=[i], nullify_shared=False)  )\n",
    "#     adata.obsm[f'dis2p_Z_not_{i+1}'] = model.get_latent_representation(nullify_cat_covs_indices=[i], nullify_shared=False)"
   ]
  },
  {
   "cell_type": "markdown",
   "id": "56c58012-2bd3-40d8-a9e0-ee8390f3be6f",
   "metadata": {},
   "source": [
    "# plot UMAP latent"
   ]
  },
  {
   "cell_type": "code",
   "execution_count": 12,
   "id": "3f819eae-ee08-4cf7-80cd-567899a500e1",
   "metadata": {},
   "outputs": [],
   "source": [
    "# from numba.core.errors import NumbaDeprecationWarning, NumbaPendingDeprecationWarning\n",
    "# import warnings\n",
    "\n",
    "# warnings.simplefilter('ignore', category=NumbaDeprecationWarning)\n",
    "# warnings.simplefilter('ignore', category=NumbaPendingDeprecationWarning)"
   ]
  },
  {
   "cell_type": "code",
   "execution_count": 13,
   "id": "cc35e301-e181-4f22-84e3-33f8e9df79c8",
   "metadata": {},
   "outputs": [],
   "source": [
    "# for i in range(len(cats) + 1):  # loop over all Z_i\n",
    "\n",
    "#     latent_name = f'dis2p_Z_{i}'\n",
    "\n",
    "#     print(f\"---UMAP for {latent_name}---\")\n",
    "\n",
    "#     sc.pp.neighbors(adata, use_rep=f\"{latent_name}\")\n",
    "#     sc.tl.umap(adata)\n",
    "\n",
    "#     sc.pl.umap(\n",
    "#         adata,\n",
    "#         color=cats,\n",
    "#         ncols=len(cats),\n",
    "#         frameon=False,\n",
    "#     )"
   ]
  },
  {
   "cell_type": "markdown",
   "id": "7dbe719d-f2f1-484e-a3b5-324f90a079dc",
   "metadata": {},
   "source": [
    "# Load previous model"
   ]
  },
  {
   "cell_type": "code",
   "execution_count": 14,
   "id": "a1a73383-0c27-440c-99d2-a44d092c16ad",
   "metadata": {},
   "outputs": [
    {
     "data": {
      "text/plain": [
       "'2023-12-06'"
      ]
     },
     "execution_count": 14,
     "metadata": {},
     "output_type": "execute_result"
    }
   ],
   "source": [
    "today"
   ]
  },
  {
   "cell_type": "code",
   "execution_count": 17,
   "id": "d7b52bf2-995c-4892-a340-4fff0f4fd947",
   "metadata": {},
   "outputs": [],
   "source": [
    "# # train params\n",
    "# day = '2023-12-06'\n",
    "\n",
    "# # train params\n",
    "# epochs = 5 #400\n",
    "# batch_size = 256 #7 #128\n",
    "# cf_weight = 1\n",
    "# beta = 1\n",
    "# clf_weight = 50\n",
    "# adv_clf_weight = 10\n",
    "# adv_period = 1\n",
    "# n_cf = 1\n",
    "\n",
    "# # architecture params\n",
    "# n_layers=1\n",
    "\n",
    "# train_dict = {'max_epochs': epochs, 'batch_size': batch_size, 'cf_weight': cf_weight,\n",
    "#               'beta': beta, 'clf_weight': clf_weight, 'adv_clf_weight': adv_clf_weight,\n",
    "#               'adv_period': adv_period, 'n_cf': n_cf}\n",
    "\n",
    "# module_name = 'dis2pmPoisson'\n",
    "# pre_path = f'models/{module_name}'\n",
    "# if not os.path.exists(pre_path):\n",
    "#     os.makedirs(pre_path)\n",
    "\n",
    "# specify a name for your model\n",
    "model_name =  f'{today},{module_name},{data_name},' + f'n_layers={n_layers},' + ','.join(k + '=' + str(v) for k, v in train_dict.items())\n"
   ]
  },
  {
   "cell_type": "code",
   "execution_count": 18,
   "id": "f416bc22-c4b1-4207-9b04-5d3c4d3175f9",
   "metadata": {},
   "outputs": [
    {
     "name": "stdout",
     "output_type": "stream",
     "text": [
      "dict_keys(['loss_validation', 'x_0_validation', 'x_1_validation', 'x_2_validation', 'x_3_validation', 'rec_x_cf_validation', 'z_1_validation', 'z_2_validation', 'z_3_validation', 'ce_validation', 'acc_validation', 'f1_validation', 'atac_0_validation', 'atac_1_validation', 'atac_2_validation', 'atac_3_validation', 'rec_x_cf_atac_validation', 'z_acc_1_validation', 'z_acc_2_validation', 'z_acc_3_validation', 'ce_atac_validation', 'acc_atac_validation', 'f1_atac_validation', 'adv_ce_validation', 'adv_acc_validation', 'adv_f1_validation', 'adv_ce_atac_validation', 'adv_acc_atac_validation', 'adv_f1_atac_validation', 'loss_train', 'x_0_train', 'x_1_train', 'x_2_train', 'x_3_train', 'rec_x_cf_train', 'z_1_train', 'z_2_train', 'z_3_train', 'ce_train', 'acc_train', 'f1_train', 'atac_0_train', 'atac_1_train', 'atac_2_train', 'atac_3_train', 'rec_x_cf_atac_train', 'z_acc_1_train', 'z_acc_2_train', 'z_acc_3_train', 'ce_atac_train', 'acc_atac_train', 'f1_atac_train', 'adv_ce_train', 'adv_acc_train', 'adv_f1_train', 'adv_ce_atac_train', 'adv_acc_atac_train', 'adv_f1_atac_train'])\n"
     ]
    },
    {
     "data": {
      "text/plain": [
       "[<matplotlib.lines.Line2D at 0x1542b622fc40>]"
      ]
     },
     "execution_count": 18,
     "metadata": {},
     "output_type": "execute_result"
    },
    {
     "data": {
      "image/png": "[encoded data removed]",
      "text/plain": [
       "<Figure size 640x480 with 1 Axes>"
      ]
     },
     "metadata": {},
     "output_type": "display_data"
    }
   ],
   "source": [
    "import matplotlib.pyplot as plt \n",
    "print(model.history.keys())\n",
    "\n",
    "plt.plot(model.history['loss_validation'])\n"
   ]
  },
  {
   "cell_type": "code",
   "execution_count": 19,
   "id": "d0816ce0-7303-42e1-a70b-0bf6e5d9b1a2",
   "metadata": {},
   "outputs": [
    {
     "name": "stdout",
     "output_type": "stream",
     "text": [
      "dict_keys(['loss_validation', 'x_0_validation', 'x_1_validation', 'x_2_validation', 'x_3_validation', 'rec_x_cf_validation', 'z_1_validation', 'z_2_validation', 'z_3_validation', 'ce_validation', 'acc_validation', 'f1_validation', 'atac_0_validation', 'atac_1_validation', 'atac_2_validation', 'atac_3_validation', 'rec_x_cf_atac_validation', 'z_acc_1_validation', 'z_acc_2_validation', 'z_acc_3_validation', 'ce_atac_validation', 'acc_atac_validation', 'f1_atac_validation', 'adv_ce_validation', 'adv_acc_validation', 'adv_f1_validation', 'adv_ce_atac_validation', 'adv_acc_atac_validation', 'adv_f1_atac_validation', 'loss_train', 'x_0_train', 'x_1_train', 'x_2_train', 'x_3_train', 'rec_x_cf_train', 'z_1_train', 'z_2_train', 'z_3_train', 'ce_train', 'acc_train', 'f1_train', 'atac_0_train', 'atac_1_train', 'atac_2_train', 'atac_3_train', 'rec_x_cf_atac_train', 'z_acc_1_train', 'z_acc_2_train', 'z_acc_3_train', 'ce_atac_train', 'acc_atac_train', 'f1_atac_train', 'adv_ce_train', 'adv_acc_train', 'adv_f1_train', 'adv_ce_atac_train', 'adv_acc_atac_train', 'adv_f1_atac_train'])\n"
     ]
    }
   ],
   "source": [
    "#plt.plot(model.history['loss_validation'])\n",
    "print(model.history.keys())"
   ]
  },
  {
   "cell_type": "code",
   "execution_count": 20,
   "id": "7bc2529a-fde5-42b0-b103-199365eb208c",
   "metadata": {},
   "outputs": [
    {
     "name": "stdout",
     "output_type": "stream",
     "text": [
      "loss_validation\n",
      "x_0_validation\n",
      "x_1_validation\n",
      "x_2_validation\n",
      "x_3_validation\n",
      "rec_x_cf_validation\n",
      "z_1_validation\n",
      "z_2_validation\n",
      "z_3_validation\n",
      "ce_validation\n",
      "acc_validation\n",
      "f1_validation\n",
      "atac_0_validation\n",
      "atac_1_validation\n",
      "atac_2_validation\n",
      "atac_3_validation\n",
      "rec_x_cf_atac_validation\n",
      "z_acc_1_validation\n",
      "z_acc_2_validation\n",
      "z_acc_3_validation\n",
      "ce_atac_validation\n",
      "acc_atac_validation\n",
      "f1_atac_validation\n",
      "adv_ce_validation\n",
      "adv_acc_validation\n",
      "adv_f1_validation\n",
      "adv_ce_atac_validation\n",
      "adv_acc_atac_validation\n",
      "adv_f1_atac_validation\n",
      "loss_train\n",
      "x_0_train\n",
      "x_1_train\n",
      "x_2_train\n",
      "x_3_train\n",
      "rec_x_cf_train\n",
      "z_1_train\n",
      "z_2_train\n",
      "z_3_train\n",
      "ce_train\n",
      "acc_train\n",
      "f1_train\n",
      "atac_0_train\n",
      "atac_1_train\n",
      "atac_2_train\n",
      "atac_3_train\n",
      "rec_x_cf_atac_train\n",
      "z_acc_1_train\n",
      "z_acc_2_train\n",
      "z_acc_3_train\n",
      "ce_atac_train\n",
      "acc_atac_train\n",
      "f1_atac_train\n",
      "adv_ce_train\n",
      "adv_acc_train\n",
      "adv_f1_train\n",
      "adv_ce_atac_train\n",
      "adv_acc_atac_train\n",
      "adv_f1_atac_train\n"
     ]
    }
   ],
   "source": [
    "for i in model.history.keys():\n",
    "    print(i)"
   ]
  },
  {
   "cell_type": "code",
   "execution_count": 22,
   "id": "f416f319-f0a9-4bc6-96c0-591d03a08bb5",
   "metadata": {},
   "outputs": [
    {
     "data": {
      "text/plain": [
       "[<matplotlib.lines.Line2D at 0x1542b5c90a60>]"
      ]
     },
     "execution_count": 22,
     "metadata": {},
     "output_type": "execute_result"
    },
    {
     "data": {
      "image/png": "[encoded data removed]",
      "text/plain": [
       "<Figure size 640x480 with 1 Axes>"
      ]
     },
     "metadata": {},
     "output_type": "display_data"
    }
   ],
   "source": [
    "plt.plot(model.history['atac_0_validation'])\n",
    "plt.plot(model.history['atac_1_validation'])\n",
    "plt.plot(model.history['atac_2_validation'])\n",
    "plt.plot(model.history['atac_3_validation'])\n"
   ]
  },
  {
   "cell_type": "code",
   "execution_count": null,
   "id": "b58edc15-b8c0-4ed7-8908-44331cd94ca8",
   "metadata": {},
   "outputs": [],
   "source": [
    "# load model\n",
    "\n",
    "# Z_0\n",
    "adata.obsm[f'dis2p_Z_0_gex'] = model.get_latent_representation(nullify_cat_covs_indices=[s for s in range(len(cats))], nullify_shared=False)[\"GEX\"] \n",
    "adata.obsm[f'dis2p_Z_0_atac'] = model.get_latent_representation(nullify_cat_covs_indices=[s for s in range(len(cats))], nullify_shared=False)[\"ATAC\"] \n",
    "\n",
    "for i in range(len(cats)):\n",
    "    null_idx = [s for s in range(len(cats)) if s != i]\n",
    "    # Z_i\n",
    "    adata.obsm[f'dis2p_Z_{i+1}_gex'] = model.get_latent_representation(nullify_cat_covs_indices=null_idx, nullify_shared=True)['GEX']\n",
    "    adata.obsm[f'dis2p_Z_{i+1}_atac'] = model.get_latent_representation(nullify_cat_covs_indices=null_idx, nullify_shared=True)['ATAC']\n",
    "    # Z_{-i}\n",
    "    adata.obsm[f'dis2p_Z_not_{i+1}_gex'] = model.get_latent_representation(nullify_cat_covs_indices=[i], nullify_shared=False)['GEX']    \n",
    "    adata.obsm[f'dis2p_Z_not_{i+1}_atac'] = model.get_latent_representation(nullify_cat_covs_indices=[i], nullify_shared=False)['ATAC']"
   ]
  },
  {
   "cell_type": "code",
   "execution_count": null,
   "id": "8024bc14-7522-464e-b6f4-32075dbdc021",
   "metadata": {},
   "outputs": [],
   "source": [
    "from numba.core.errors import NumbaDeprecationWarning, NumbaPendingDeprecationWarning\n",
    "import warnings\n",
    "\n",
    "warnings.simplefilter('ignore', category=NumbaDeprecationWarning)\n",
    "warnings.simplefilter('ignore', category=NumbaPendingDeprecationWarning)\n",
    "warnings.simplefilter('ignore', category=FutureWarning)\n"
   ]
  },
  {
   "cell_type": "code",
   "execution_count": null,
   "id": "d0579098-fc36-4480-ad97-b132a0177060",
   "metadata": {},
   "outputs": [],
   "source": [
    "for i in range(len(cats) + 1):  # loop over all Z_i\n",
    "\n",
    "    latent_name = f'dis2p_Z_{i}_gex'\n",
    "\n",
    "    print(f\"---UMAP for {latent_name} ---\")\n",
    "\n",
    "    sc.pp.neighbors(adata, use_rep=f\"{latent_name}\")\n",
    "    sc.tl.umap(adata)\n",
    "\n",
    "    sc.pl.umap(\n",
    "        adata,\n",
    "        color=cats,\n",
    "        ncols=len(cats),\n",
    "        frameon=False,\n",
    "    )"
   ]
  },
  {
   "cell_type": "code",
   "execution_count": null,
   "id": "dc8bb755-5255-48d3-b97d-21fe078462bd",
   "metadata": {},
   "outputs": [],
   "source": [
    "for i in range(len(cats) + 1):  # loop over all Z_i\n",
    "\n",
    "    latent_name = f'dis2p_Z_{i}_atac'\n",
    "\n",
    "    print(f\"---UMAP for {latent_name} ---\")\n",
    "\n",
    "    sc.pp.neighbors(adata, use_rep=f\"{latent_name}\")\n",
    "    sc.tl.umap(adata)\n",
    "\n",
    "    sc.pl.umap(\n",
    "        adata,\n",
    "        color=cats,\n",
    "        ncols=len(cats),\n",
    "        frameon=False,\n",
    "    )"
   ]
  },
  {
   "cell_type": "code",
   "execution_count": null,
   "id": "17c75d60-d182-4267-ab04-296090d0cfd5",
   "metadata": {},
   "outputs": [],
   "source": []
  }
 ],
 "metadata": {
  "environment": {
   "kernel": "scfair_dev_20231003_env",
   "name": "pytorch-gpu.1-13.m112",
   "type": "gcloud",
   "uri": "gcr.io/deeplearning-platform-release/pytorch-gpu.1-13:m112"
  },
  "kernelspec": {
   "display_name": "dis2pm",
   "language": "python",
   "name": "dis2pm"
  },
  "language_info": {
   "codemirror_mode": {
    "name": "ipython",
    "version": 3
   },
   "file_extension": ".py",
   "mimetype": "text/x-python",
   "name": "python",
   "nbconvert_exporter": "python",
   "pygments_lexer": "ipython3",
   "version": "3.10.13"
  }
 },
 "nbformat": 4,
 "nbformat_minor": 5
}
