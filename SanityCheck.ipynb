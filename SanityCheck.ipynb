{
 "cells": [
  {
   "cell_type": "code",
   "execution_count": 1,
   "id": "781b0dcb-1eb0-47b2-89ed-f413b629b834",
   "metadata": {},
   "outputs": [],
   "source": [
    "%load_ext autoreload\n",
    "%autoreload 2"
   ]
  },
  {
   "cell_type": "code",
   "execution_count": 2,
   "id": "7fc82681-2bd3-4ea7-8530-a221f25eb22b",
   "metadata": {},
   "outputs": [],
   "source": [
    "import os\n",
    "os.environ['PROTOCOL_BUFFERS_PYTHON_IMPLEMENTATION']='python'"
   ]
  },
  {
   "cell_type": "code",
   "execution_count": 3,
   "id": "e0764fcc-6dad-48f0-aed3-b4faa7b8b23a",
   "metadata": {},
   "outputs": [
    {
     "name": "stdout",
     "output_type": "stream",
     "text": [
      "[2023-11-09 11:41:24,194] [INFO] [real_accelerator.py:133:get_accelerator] Setting ds_accelerator to cuda (auto detect)\n"
     ]
    },
    {
     "name": "stderr",
     "output_type": "stream",
     "text": [
      "Global seed set to 0\n"
     ]
    }
   ],
   "source": [
    "import dis2p.dis2pvae as dvae\n",
    "import dis2p.dis2pvi as dvi"
   ]
  },
  {
   "cell_type": "code",
   "execution_count": 4,
   "id": "6ae90f7a-0242-4d44-8d23-a56e099e924c",
   "metadata": {},
   "outputs": [
    {
     "name": "stdout",
     "output_type": "stream",
     "text": [
      "\u001b[34mINFO    \u001b[0m File data/hca_subsampled_20k.h5ad already downloaded                                                      \n"
     ]
    }
   ],
   "source": [
    "import scvi\n",
    "import scanpy as sc\n",
    "import pandas as pd\n",
    "from datetime import datetime\n",
    "def create_cats_idx(adata, cats):\n",
    "    # create numerical index for each attr in cats\n",
    "\n",
    "    for i in range(len(cats)):\n",
    "        values = list(set(adata.obs[cats[i]]))\n",
    "\n",
    "        val_to_idx = {v: values.index(v) for v in values}\n",
    "\n",
    "        idx_list = [val_to_idx[v] for v in adata.obs[cats[i]]]\n",
    "\n",
    "        adata.obs[cats[i] + '_idx'] = pd.Categorical(idx_list)\n",
    "\n",
    "    return adata\n",
    "\n",
    "adata = scvi.data.heart_cell_atlas_subsampled()\n",
    "\n",
    "# preprocess dataset\n",
    "sc.pp.filter_genes(adata, min_counts=3)\n",
    "adata.layers[\"counts\"] = adata.X.copy()\n",
    "sc.pp.normalize_total(adata, target_sum=1e4)\n",
    "sc.pp.log1p(adata)\n",
    "adata.raw = adata\n",
    "sc.pp.highly_variable_genes(\n",
    "    adata,\n",
    "    n_top_genes=1200,\n",
    "    subset=True,\n",
    "    layer=\"counts\",\n",
    "    flavor=\"seurat_v3\",\n",
    ")\n",
    "\n",
    "# specify name of dataset \n",
    "data_name = 'HeartAtlas'\n",
    "\n",
    "# specify attributes\n",
    "cats = ['cell_type', 'cell_source', 'gender', 'region']\n",
    "\n",
    "# create numerical index for each attr in cats\n",
    "create_cats_idx(adata, cats)\n",
    "\n",
    "# save adata\n",
    "# adata.write_h5ad('data/heart_preprocessed1200.h5ad')\n",
    "\n",
    "today = datetime.today().strftime('%Y-%m-%d')"
   ]
  },
  {
   "cell_type": "code",
   "execution_count": 5,
   "id": "522e1860-3a65-4630-8cb6-a9f17b91eb45",
   "metadata": {},
   "outputs": [
    {
     "name": "stderr",
     "output_type": "stream",
     "text": [
      "No GPU/TPU found, falling back to CPU. (Set TF_CPP_MIN_LOG_LEVEL=0 and rerun for more info.)\n",
      "GPU available: True (cuda), used: True\n",
      "TPU available: False, using: 0 TPU cores\n",
      "IPU available: False, using: 0 IPUs\n",
      "HPU available: False, using: 0 HPUs\n",
      "You are using a CUDA device ('NVIDIA A100-SXM4-80GB MIG 1c.7g.79gb') that has Tensor Cores. To properly utilize them, you should set `torch.set_float32_matmul_precision('medium' | 'high')` which will trade-off precision for performance. For more details, read https://pytorch.org/docs/stable/generated/torch.set_float32_matmul_precision.html#torch.set_float32_matmul_precision\n",
      "LOCAL_RANK: 0 - CUDA_VISIBLE_DEVICES: [MIG-GPU-8391e223-da74-0458-e121-783edc78bf21/0/0]\n",
      "/nfs/team205/ml19/miniconda3/envs/multimodal/lib/python3.8/site-packages/pytorch_lightning/core/optimizer.py:331: RuntimeWarning: The lr scheduler dict contains the key(s) ['monitor'], but the keys will be ignored. You need to call `lr_scheduler.step()` manually in manual optimization.\n",
      "  rank_zero_warn(\n"
     ]
    },
    {
     "name": "stdout",
     "output_type": "stream",
     "text": [
      "Epoch 13/400:   3%|▎         | 12/400 [01:48<58:13,  9.00s/it, v_num=1, loss_validation=2.19e+3, x_0_validation=294, x_1_validation=303, x_2_validation=302, x_3_validation=301, x_4_validation=302, rec_x_cf_validation=497, z_1_validation=23.4, z_2_validation=23.6, z_3_validation=28.2, z_4_validation=25.8, ce_validation=0.916, acc_validation=0.996, f1_validation=0.996, adv_ce_validation=1.37, adv_acc_validation=0.531, adv_f1_validation=0.531, loss_train=2.05e+3, x_0_train=283, x_1_train=292, x_2_train=291, x_3_train=290, x_4_train=292, rec_x_cf_train=468, z_1_train=24.4, z_2_train=24, z_3_train=26.4, z_4_train=25.8, ce_train=0.92, acc_train=0.992, f1_train=0.992, adv_ce_train=1.35, adv_acc_train=0.517, adv_f1_train=0.517]  "
     ]
    },
    {
     "name": "stderr",
     "output_type": "stream",
     "text": [
      "/nfs/team205/ml19/miniconda3/envs/multimodal/lib/python3.8/site-packages/pytorch_lightning/trainer/call.py:48: UserWarning: Detected KeyboardInterrupt, attempting graceful shutdown...\n",
      "  rank_zero_warn(\"Detected KeyboardInterrupt, attempting graceful shutdown...\")\n"
     ]
    }
   ],
   "source": [
    "# train params\n",
    "!rm -rf models\n",
    "epochs = 400\n",
    "batch_size = 128\n",
    "cf_weight = 1\n",
    "beta = 1\n",
    "clf_weight = 50\n",
    "adv_clf_weight = 10\n",
    "adv_period = 1\n",
    "n_cf = 1\n",
    "\n",
    "# architecture params\n",
    "n_layers=1\n",
    "\n",
    "train_dict = {'max_epochs': epochs, 'batch_size': batch_size, 'cf_weight': cf_weight,\n",
    "              'beta': beta, 'clf_weight': clf_weight, 'adv_clf_weight': adv_clf_weight,\n",
    "              'adv_period': adv_period, 'n_cf': n_cf}\n",
    "\n",
    "module_name = 'dis2p'\n",
    "pre_path = f'models/{module_name}'\n",
    "if not os.path.exists(pre_path):\n",
    "    os.makedirs(pre_path)\n",
    "\n",
    "# specify a name for your model\n",
    "model_name =  f'{today},{module_name},{data_name},' + f'n_layers={n_layers},' + ','.join(k + '=' + str(v) for k, v in train_dict.items())\n",
    "\n",
    "dvi.Dis2pVI.setup_anndata(\n",
    "    adata,\n",
    "    layer='counts',\n",
    "    categorical_covariate_keys=cats,\n",
    "    continuous_covariate_keys=[]\n",
    ")\n",
    "model = dvi.Dis2pVI(adata, n_layers=n_layers)\n",
    "model.train(**train_dict)"
   ]
  },
  {
   "cell_type": "code",
   "execution_count": null,
   "id": "5076c1a4-ef4f-4d18-a624-629782d21a37",
   "metadata": {},
   "outputs": [],
   "source": []
  }
 ],
 "metadata": {
  "kernelspec": {
   "display_name": "multimodal",
   "language": "python",
   "name": "multimodal"
  },
  "language_info": {
   "codemirror_mode": {
    "name": "ipython",
    "version": 3
   },
   "file_extension": ".py",
   "mimetype": "text/x-python",
   "name": "python",
   "nbconvert_exporter": "python",
   "pygments_lexer": "ipython3",
   "version": "3.8.13"
  }
 },
 "nbformat": 4,
 "nbformat_minor": 5
}
