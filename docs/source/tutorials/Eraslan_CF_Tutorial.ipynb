{
 "cells": [
  {
   "cell_type": "markdown",
   "id": "072b9717-5c25-4985-a446-b288ad927380",
   "metadata": {},
   "source": [
    "# Double counterfactual prediction"
   ]
  },
  {
   "cell_type": "markdown",
   "id": "f476ed9d-9ff3-43b3-b86f-228a41a03852",
   "metadata": {},
   "source": [
    "## We will be performing a double counterfactual prediction in this tutorial, recreating the CellDISECT results from benchmarking scenario 2 of the paper on the Eraslan et al. data."
   ]
  },
  {
   "cell_type": "code",
   "execution_count": 1,
   "id": "6bf2e169-803b-4b90-aafe-240b83fb8f4c",
   "metadata": {
    "tags": []
   },
   "outputs": [
    {
     "name": "stderr",
     "output_type": "stream",
     "text": [
      "Global seed set to 0\n",
      "Global seed set to 0\n"
     ]
    }
   ],
   "source": [
    "# enable autoreload\n",
    "%load_ext autoreload\n",
    "%autoreload 2\n",
    "%matplotlib inline\n",
    "\n",
    "import os\n",
    "import random\n",
    "\n",
    "import scvi\n",
    "scvi.settings.seed = 0\n",
    "import scanpy as sc\n",
    "import anndata as ad\n",
    "import torch\n",
    "import numpy as np\n",
    "import pandas as pd\n",
    "import gc\n",
    "import scipy\n",
    "from scipy.stats import pearsonr\n",
    "from scipy.stats import wasserstein_distance\n",
    "torch.set_float32_matmul_precision('medium')\n",
    "import matplotlib.pyplot as plt\n",
    "from matplotlib.pyplot import rc_context\n",
    "import seaborn as sns\n",
    "\n",
    "import warnings\n",
    "from tqdm import tqdm\n",
    "warnings.simplefilter(\"ignore\", UserWarning)\n",
    "warnings.filterwarnings(\"ignore\")\n",
    "\n",
    "\n",
    "from celldisect import CellDISECT"
   ]
  },
  {
   "cell_type": "code",
   "execution_count": 2,
   "id": "eb124178-9876-4e7b-adc5-23a47cdc8220",
   "metadata": {
    "tags": []
   },
   "outputs": [],
   "source": [
    "RANDOM_SEED = 42\n",
    "\n",
    "adata = sc.read_h5ad('/lustre/scratch126/cellgen/team205/aa34/Arian/Dis2P/eraslan_preprocessed1212_split_deg.h5ad')\n",
    "adata = adata[adata.layers['counts'].sum(1) != 0].copy()\n",
    "if scipy.sparse.issparse(adata.X):\n",
    "    adata.X = adata.X.todense()\n",
    "if scipy.sparse.issparse(adata.layers['counts']):\n",
    "    adata.layers['counts'] = adata.layers['counts'].todense()\n",
    "    \n",
    "adata.X = adata.layers['counts'].copy()\n",
    "\n",
    "cats = ['tissue', 'Sample ID', 'sex', 'Age_bin']"
   ]
  },
  {
   "cell_type": "code",
   "execution_count": 3,
   "id": "ba1b37d8-e281-4c00-9f01-0808b2090f86",
   "metadata": {
    "tags": []
   },
   "outputs": [],
   "source": [
    "cell_type_included = False # Set to True if you have provided a cell type annotation in the cats list\n",
    "\n",
    "if not cell_type_included:\n",
    "    adata.obs[\"_cluster\"] = (\n",
    "        \"0\"  # Dummy obs for inference (not-training) time, to avoid computing neighbors and clusters again in setup_anndata | AVOID ADDING BEFORE TRAINING\n",
    "    )"
   ]
  },
  {
   "cell_type": "code",
   "execution_count": 4,
   "id": "634d1137-52b6-4196-ac25-800d7bc24471",
   "metadata": {
    "tags": []
   },
   "outputs": [],
   "source": [
    "n_samples_from_source_max = 500"
   ]
  },
  {
   "cell_type": "markdown",
   "id": "2b280004-0d17-4a40-a6a2-acaa38244e20",
   "metadata": {},
   "source": [
    "## We have already trained the model without cell type information using the default parameters as in the example:\n",
    "https://github.com/Lotfollahi-lab/CellDISECT/blob/main/examples/training_example.py"
   ]
  },
  {
   "cell_type": "code",
   "execution_count": 5,
   "id": "48373c42-6c80-4d17-af4e-66016ec197cb",
   "metadata": {
    "tags": []
   },
   "outputs": [
    {
     "name": "stdout",
     "output_type": "stream",
     "text": [
      "\u001b[34mINFO    \u001b[0m File                                                                                                      \n",
      "         \u001b[35m/lustre/scratch126/cellgen/team205/aa34/Arian/Dis2P/models/\u001b[0m\u001b[35m/dis2p_cE_split_2/pretrainAE_0_maxEpochs_1000_s\u001b[0m\n",
      "         \u001b[35mplit_split_2_reconW_20_cfWeight_0.8_beta_0.003_clf_0.05_adv_0.014_advp_5_n_cf_1_lr_0.003_wd_5e-05_new_cf_T\u001b[0m\n",
      "         \u001b[35mrue_dropout_0.1_n_hidden_128_n_latent_32_n_layers_2batch_size_256_NoCT/\u001b[0m\u001b[95mmodel.pt\u001b[0m already downloaded        \n"
     ]
    },
    {
     "name": "stderr",
     "output_type": "stream",
     "text": [
      "Cluster covariate already present in adata.obs, remove in case you want to re-run, skipping!\n"
     ]
    }
   ],
   "source": [
    "pre_path = '/lustre/scratch126/cellgen/team205/aa34/Arian/Dis2P/models/'\n",
    "\n",
    "split_name = 'split_2'\n",
    "gc.collect()\n",
    "\n",
    "celldisect_model_path = (\n",
    "    f'dis2p_cE_{split_name}/'\n",
    "f'pretrainAE_0_maxEpochs_1000_split_{split_name}_reconW_20_cfWeight_0.8_beta_0.003_clf_0.05_adv_0.014_advp_5_n_cf_1_lr_0.003_wd_5e-05_new_cf_True_dropout_0.1_n_hidden_128_n_latent_32_n_layers_2batch_size_256_NoCT'\n",
    ")\n",
    "\n",
    "model = CellDISECT.load(f\"{pre_path}/{celldisect_model_path}\", adata=adata)"
   ]
  },
  {
   "cell_type": "markdown",
   "id": "9a8a792f-9787-4bac-9019-538ca2c0eb91",
   "metadata": {},
   "source": [
    "## We are aiming to predict, what would Epithelial female breast cells look like, given if they were male prostate gland cells.\n",
    "### So this is a double counterfactual, aiming to change 2 of the covariates at the same time in the cells, `sex`, and `tissue` in this case.\n",
    "We are also using just the Epithelial subset of the dataset, since we want to do the counterfactuals on this group of cells.\n",
    "You can take a look at the documentation of the `predict_counterfactuals` method for more details."
   ]
  },
  {
   "cell_type": "code",
   "execution_count": 6,
   "id": "93dd56ef-d90d-4e49-b571-799dc44368b2",
   "metadata": {
    "tags": []
   },
   "outputs": [],
   "source": [
    "cell_type_to_check = 'Epithelial cell (luminal)'\n",
    "n_samples_from_source = min(n_samples_from_source_max, len(adata[(adata.obs['Broad cell type'] == cell_type_to_check) &\n",
    "                (adata.obs['tissue'] == 'breast') & (adata.obs['sex'] == 'female')]))\n",
    "\n",
    "\n",
    "cov_names = ['sex', 'tissue']\n",
    "cov_values = ['female', 'breast']\n",
    "cov_values_cf = ['male', 'prostate gland']\n",
    "\n",
    "adata_ = adata[adata.obs['Broad cell type'] == cell_type_to_check].copy()"
   ]
  },
  {
   "cell_type": "code",
   "execution_count": 7,
   "id": "e5cf0c77-a029-4be9-925a-0a21d9926aa2",
   "metadata": {
    "tags": []
   },
   "outputs": [
    {
     "name": "stdout",
     "output_type": "stream",
     "text": [
      "\u001b[34mINFO    \u001b[0m AnnData object appears to be a copy. Attempting to transfer setup.                                        \n",
      "\u001b[34mINFO    \u001b[0m AnnData object appears to be a copy. Attempting to transfer setup.                                        \n"
     ]
    }
   ],
   "source": [
    "x_ctrl, x_true, x_pred = model.predict_counterfactuals(\n",
    "                                        adata_,\n",
    "                                        cov_names=cov_names,\n",
    "                                        cov_values=cov_values,\n",
    "                                        cov_values_cf=cov_values_cf,\n",
    "                                        cats=cats,\n",
    "                                        n_samples_from_source=n_samples_from_source,\n",
    "                                        seed=RANDOM_SEED,\n",
    "                                        )\n",
    "\n",
    "x_ctrl, x_true, x_pred = np.log1p(x_ctrl), np.log1p(x_true), np.log1p(x_pred)"
   ]
  },
  {
   "cell_type": "markdown",
   "id": "6f45ff01-6971-4fd0-b37f-ba3048fb4db3",
   "metadata": {},
   "source": [
    "The `predict_counterfactuals` method gave us the `control cells (female breast)`, `true cells (actual male prostate)`, and `CellDISECT's prediction of female breast --> male prostate` as output."
   ]
  },
  {
   "cell_type": "markdown",
   "id": "f28f75f0-7601-4948-8a66-94be8690365c",
   "metadata": {},
   "source": [
    "We have the differentially expressed genes related to this transformation precomputed. You can compute these genes with the code in the following notebook:\n",
    "https://github.com/stathismegas/CellDISECT_reproducibility/blob/main/figure_notebooks/eraslan/eraslan_preprocess_scenario_splits.ipynb"
   ]
  },
  {
   "cell_type": "code",
   "execution_count": 8,
   "id": "ccf2671f-8510-4fe1-b0bd-767e4e7a2330",
   "metadata": {
    "tags": []
   },
   "outputs": [],
   "source": [
    "deg_list = adata.uns['rank_genes_groups_split_2']['male_prostate gland']"
   ]
  },
  {
   "cell_type": "code",
   "execution_count": 9,
   "id": "16cd35f2-9320-4733-8fc8-841b10041510",
   "metadata": {
    "tags": []
   },
   "outputs": [
    {
     "data": {
      "text/plain": [
       "array(['KLK4', 'AC005152.3', 'LINC01152', 'HP', 'CD177', 'KLK3',\n",
       "       'PLA2G2A', 'XIST', 'KLK2', 'CPLX3', 'NKX3-1', 'RP11-395B7.2',\n",
       "       'MSMB', 'ATOH8', 'ACPP', 'MT1G', 'S100P', 'ANKRD30A', 'NEFH',\n",
       "       'IFI6', 'PCAT4', 'PGC', 'FTL', 'SLC45A3', 'CKB', 'GP2',\n",
       "       'LINC01297', 'SLC38A11', 'MT1M', 'RPS4Y1', 'FGL1', 'RP1-288H2.2',\n",
       "       'PLPP1', 'SORD', 'AKAP12', 'CYP1B1', 'SFN', 'ADIRF', 'CPNE4',\n",
       "       'GPX3', 'UBA52', 'TIMP1', 'KIT', 'TMEFF2', 'TRPM8', 'ATP5E',\n",
       "       'GABRP', 'HSPA1A', 'STAC2', 'UQCR10', 'MT2A', 'HERPUD1', 'S100A11',\n",
       "       'SCD', 'RP11-33A14.1', 'SLC4A4', 'MT1E', 'PSCA', 'RP11-126O1.4',\n",
       "       'UBB', 'VTCN1', 'IFITM3', 'AGR2', 'SCNN1G', 'TMSB10', 'NDUFA4',\n",
       "       'SCHLAP1', 'AMD1', 'B2M', 'NDRG1', 'PSAP', 'KRT15', 'RP11-384F7.2',\n",
       "       'STEAP2', 'CPE', 'COX7C', 'FAU', 'PRDX1', 'AQP3', 'ALOX15B',\n",
       "       'GADD45G', 'SHROOM1', 'SERF2', 'LSAMP', 'DHCR24', 'UQCRB', 'ZNF90',\n",
       "       'C19orf48', 'POLR2L', 'COX6B1', 'CST3', 'TXNRD1', 'ESR1', 'OOEP',\n",
       "       'HGD', 'TPT1', 'NDUFS5', 'TSPO', 'AC009478.1', 'RNF19B', 'PART1',\n",
       "       'UQCRQ', 'FN1', 'APOO', 'MTRNR2L8', 'ANKRD36C', 'BARX2',\n",
       "       'RP11-356O9.1', 'COX5B', 'FOLH1', 'FXYD3', 'BMPR1B', 'TMPRSS2',\n",
       "       'SYNM', 'DHFR', 'FADS2', 'TBC1D3P1-DHX40P1', 'CSTB', 'SEPW1',\n",
       "       'GAPDH', 'SYT1', 'SERPINA3', 'EEF1A1', 'H2AFJ', 'ALDOA',\n",
       "       'RP11-608O21.1', 'GABRG3', 'ATP5L', 'ADAMTS9', 'CRISPLD1', 'PFN1',\n",
       "       'GRM7', 'RP11-368L12.1', 'GRN', 'FTH1', 'SDC1', 'SELM', 'DBI',\n",
       "       'COX7A2', 'TACSTD2', 'PPDPF', 'CYP4F22', 'C14orf2', 'ALDH1A2',\n",
       "       'UQCRH', 'COX4I1', 'MTRNR2L12', 'SOD2', 'PDE11A', 'PRUNE2', 'PDK4',\n",
       "       'ARHGAP40', 'PERP', 'XPO5', 'CTSB', 'ACTG1', 'PI15', 'RNF144B',\n",
       "       'GLUL', 'CACNA1C', 'KRT19', 'SLC39A6', 'LMO7', 'FASN', 'SPDEF',\n",
       "       'BAIAP2L1', 'ACSM3', 'TMEM178B', 'CACNB2', 'TFCP2L1', 'ELF3',\n",
       "       'MGP', 'MYL6', 'MRPL41', 'ESRRG', 'KRT7', 'THBS1', 'MBOAT2',\n",
       "       'CD24', 'AC072062.1', 'PLEKHA7', 'HSPB1', 'AZGP1', 'CLDN4', 'DSP',\n",
       "       'TTC6', 'SOX4', 'PLAT', 'XBP1', 'MYBPC1', 'HS3ST4', 'DSTN',\n",
       "       'SPINT1', 'AIM1', 'HES1', 'CPEB4', 'ACTB', 'RBPJ', 'SORBS2',\n",
       "       'RASGEF1B'], dtype=object)"
      ]
     },
     "execution_count": 9,
     "metadata": {},
     "output_type": "execute_result"
    }
   ],
   "source": [
    "deg_list"
   ]
  },
  {
   "cell_type": "markdown",
   "id": "a9ed9bbc-1265-4b28-b88f-51862912d2ca",
   "metadata": {},
   "source": [
    "## Earth Mover's Distance metric on 20 DEGs and all genes"
   ]
  },
  {
   "cell_type": "code",
   "execution_count": 13,
   "id": "b2e6a74a-d9a6-4272-a664-e1126edf9654",
   "metadata": {
    "tags": []
   },
   "outputs": [
    {
     "data": {
      "text/html": [
       "<div>\n",
       "<style scoped>\n",
       "    .dataframe tbody tr th:only-of-type {\n",
       "        vertical-align: middle;\n",
       "    }\n",
       "\n",
       "    .dataframe tbody tr th {\n",
       "        vertical-align: top;\n",
       "    }\n",
       "\n",
       "    .dataframe thead th {\n",
       "        text-align: right;\n",
       "    }\n",
       "</style>\n",
       "<table border=\"1\" class=\"dataframe\">\n",
       "  <thead>\n",
       "    <tr style=\"text-align: right;\">\n",
       "      <th></th>\n",
       "      <th>CellDISECT</th>\n",
       "      <th>Control</th>\n",
       "    </tr>\n",
       "  </thead>\n",
       "  <tbody>\n",
       "    <tr>\n",
       "      <th>20</th>\n",
       "      <td>0.506272</td>\n",
       "      <td>0.636810</td>\n",
       "    </tr>\n",
       "    <tr>\n",
       "      <th>all</th>\n",
       "      <td>0.108333</td>\n",
       "      <td>0.088362</td>\n",
       "    </tr>\n",
       "  </tbody>\n",
       "</table>\n",
       "</div>"
      ],
      "text/plain": [
       "     CellDISECT   Control\n",
       "20     0.506272  0.636810\n",
       "all    0.108333  0.088362"
      ]
     },
     "execution_count": 13,
     "metadata": {},
     "output_type": "execute_result"
    }
   ],
   "source": [
    "emd_results = {}\n",
    "for n_top_deg in [20, None]:\n",
    "    if n_top_deg is not None:\n",
    "        degs = np.where(np.isin(adata.var_names, deg_list[:n_top_deg]))[0]\n",
    "    else:\n",
    "        degs = np.arange(adata.n_vars)\n",
    "        n_top_deg = 'all'\n",
    "\n",
    "    x_true_deg = x_true[:, degs]\n",
    "    x_pred_deg = x_pred[:, degs]\n",
    "    x_ctrl_deg = x_ctrl[:, degs]\n",
    "    \n",
    "    emd_results[str(n_top_deg)] = {}\n",
    "    for method_name, method in zip(['CellDISECT', 'Control'], [x_pred_deg, x_ctrl_deg]):\n",
    "        wd = []\n",
    "        for i in range(x_true_deg.shape[1]):\n",
    "            wd.append(\n",
    "                wasserstein_distance(torch.tensor(x_true_deg[:, i]), torch.tensor(method[:, i]))\n",
    "            )\n",
    "        emd_results[str(n_top_deg)][method_name] = np.mean(wd)\n",
    "\n",
    "emd_results = pd.DataFrame.from_dict(emd_results).T\n",
    "emd_results"
   ]
  },
  {
   "cell_type": "markdown",
   "id": "22735db5-d6eb-4bcb-b54c-f51f5556f629",
   "metadata": {},
   "source": [
    "## Pearson Correlation metric on 20 DEGs and all genes"
   ]
  },
  {
   "cell_type": "code",
   "execution_count": 15,
   "id": "b7981e30-75a6-4a23-b98a-ac5caffe2d08",
   "metadata": {
    "tags": []
   },
   "outputs": [
    {
     "data": {
      "text/html": [
       "<div>\n",
       "<style scoped>\n",
       "    .dataframe tbody tr th:only-of-type {\n",
       "        vertical-align: middle;\n",
       "    }\n",
       "\n",
       "    .dataframe tbody tr th {\n",
       "        vertical-align: top;\n",
       "    }\n",
       "\n",
       "    .dataframe thead th {\n",
       "        text-align: right;\n",
       "    }\n",
       "</style>\n",
       "<table border=\"1\" class=\"dataframe\">\n",
       "  <thead>\n",
       "    <tr style=\"text-align: right;\">\n",
       "      <th></th>\n",
       "      <th>CellDISECT</th>\n",
       "      <th>Control</th>\n",
       "      <th>CellDISECT_var</th>\n",
       "      <th>Control_var</th>\n",
       "    </tr>\n",
       "  </thead>\n",
       "  <tbody>\n",
       "    <tr>\n",
       "      <th>20</th>\n",
       "      <td>0.889936</td>\n",
       "      <td>-0.323958</td>\n",
       "      <td>0.780835</td>\n",
       "      <td>-0.311901</td>\n",
       "    </tr>\n",
       "    <tr>\n",
       "      <th>all</th>\n",
       "      <td>0.490695</td>\n",
       "      <td>0.282120</td>\n",
       "      <td>0.568846</td>\n",
       "      <td>0.292532</td>\n",
       "    </tr>\n",
       "  </tbody>\n",
       "</table>\n",
       "</div>"
      ],
      "text/plain": [
       "     CellDISECT   Control  CellDISECT_var  Control_var\n",
       "20     0.889936 -0.323958        0.780835    -0.311901\n",
       "all    0.490695  0.282120        0.568846     0.292532"
      ]
     },
     "execution_count": 15,
     "metadata": {},
     "output_type": "execute_result"
    }
   ],
   "source": [
    "r2_results = {}\n",
    "for n_top_deg in [20, None]:\n",
    "    if n_top_deg is not None:\n",
    "        degs = np.where(np.isin(adata.var_names, deg_list[:n_top_deg]))[0]\n",
    "    else:\n",
    "        degs = np.arange(adata.n_vars)\n",
    "        n_top_deg = 'all'\n",
    "\n",
    "    x_true_deg = x_true[:, degs]\n",
    "    x_pred_deg = x_pred[:, degs]\n",
    "    x_ctrl_deg = x_ctrl[:, degs]\n",
    "    \n",
    "\n",
    "    r2_mean_deg = pearsonr(x_true_deg.mean(0), x_pred_deg.mean(0))\n",
    "    r2_mean_base_deg = pearsonr(x_true_deg.mean(0), x_ctrl_deg.mean(0))\n",
    "    \n",
    "    r2_var_deg = pearsonr(x_true_deg.var(0), x_pred_deg.var(0))\n",
    "    r2_var_base_deg = pearsonr(x_true_deg.var(0), x_ctrl_deg.var(0))\n",
    "    \n",
    "    r2_results[str(n_top_deg)] = {}\n",
    "    r2_results[str(n_top_deg)]['CellDISECT'] = r2_mean_deg[0]\n",
    "    r2_results[str(n_top_deg)]['Control'] = r2_mean_base_deg[0]\n",
    "\n",
    "    r2_results[str(n_top_deg)]['CellDISECT_var'] = r2_var_deg[0]\n",
    "    r2_results[str(n_top_deg)]['Control_var'] = r2_var_base_deg[0]\n",
    "    \n",
    "r2_results = pd.DataFrame.from_dict(r2_results).T\n",
    "r2_results"
   ]
  },
  {
   "cell_type": "code",
   "execution_count": 23,
   "id": "82d729d8-a7c1-4918-8ad4-6fe464ffe97d",
   "metadata": {
    "tags": []
   },
   "outputs": [
    {
     "data": {
      "image/png": "[encoded data removed]",
      "text/plain": [
       "<Figure size 800x600 with 1 Axes>"
      ]
     },
     "metadata": {},
     "output_type": "display_data"
    },
    {
     "data": {
      "image/png": "[encoded data removed]",
      "text/plain": [
       "<Figure size 800x600 with 1 Axes>"
      ]
     },
     "metadata": {},
     "output_type": "display_data"
    }
   ],
   "source": [
    "df_long = r2_results[['CellDISECT', 'Control']].reset_index().melt(id_vars='index', \n",
    "                                       var_name='Method', \n",
    "                                       value_name='Value')\n",
    "df_long.rename(columns={'index': 'Category'}, inplace=True)\n",
    "\n",
    "# Create the grouped barplot\n",
    "plt.figure(figsize=(8, 6))\n",
    "sns.barplot(data=df_long, x='Category', y='Value', hue='Method')\n",
    "\n",
    "# Customize the plot\n",
    "plt.title(\"Mean Pearson Correlation\")\n",
    "plt.ylabel('Value')\n",
    "\n",
    "# Show the plot\n",
    "plt.show()\n",
    "\n",
    "df_long = r2_results[['CellDISECT_var', 'Control_var']].reset_index().melt(id_vars='index', \n",
    "                                       var_name='Method', \n",
    "                                       value_name='Value')\n",
    "df_long.rename(columns={'index': 'Category'}, inplace=True)\n",
    "\n",
    "# Create the grouped barplot\n",
    "plt.figure(figsize=(8, 6))\n",
    "sns.barplot(data=df_long, x='Category', y='Value', hue='Method')\n",
    "\n",
    "# Customize the plot\n",
    "plt.title(\"Var Pearson Correlation\")\n",
    "plt.ylabel('Value')\n",
    "\n",
    "# Show the plot\n",
    "plt.show()"
   ]
  },
  {
   "cell_type": "markdown",
   "id": "fe21f196-625c-4f77-a1ad-67c1d6da1aea",
   "metadata": {},
   "source": [
    "## Delta Pearson Correlation metric on 20 DEGs and all genes"
   ]
  },
  {
   "cell_type": "code",
   "execution_count": 16,
   "id": "47b3a3a1-363b-451b-9d78-f1f813185e2e",
   "metadata": {
    "tags": []
   },
   "outputs": [
    {
     "data": {
      "text/html": [
       "<div>\n",
       "<style scoped>\n",
       "    .dataframe tbody tr th:only-of-type {\n",
       "        vertical-align: middle;\n",
       "    }\n",
       "\n",
       "    .dataframe tbody tr th {\n",
       "        vertical-align: top;\n",
       "    }\n",
       "\n",
       "    .dataframe thead th {\n",
       "        text-align: right;\n",
       "    }\n",
       "</style>\n",
       "<table border=\"1\" class=\"dataframe\">\n",
       "  <thead>\n",
       "    <tr style=\"text-align: right;\">\n",
       "      <th></th>\n",
       "      <th>CellDISECT</th>\n",
       "      <th>CellDISECT_var</th>\n",
       "    </tr>\n",
       "  </thead>\n",
       "  <tbody>\n",
       "    <tr>\n",
       "      <th>20</th>\n",
       "      <td>0.729744</td>\n",
       "      <td>0.641065</td>\n",
       "    </tr>\n",
       "    <tr>\n",
       "      <th>all</th>\n",
       "      <td>0.400509</td>\n",
       "      <td>0.151026</td>\n",
       "    </tr>\n",
       "  </tbody>\n",
       "</table>\n",
       "</div>"
      ],
      "text/plain": [
       "     CellDISECT  CellDISECT_var\n",
       "20     0.729744        0.641065\n",
       "all    0.400509        0.151026"
      ]
     },
     "execution_count": 16,
     "metadata": {},
     "output_type": "execute_result"
    }
   ],
   "source": [
    "r2_results_subtract = {}\n",
    "for n_top_deg in [20, None]:\n",
    "    if n_top_deg is not None:\n",
    "        degs = np.where(np.isin(adata.var_names, deg_list[:n_top_deg]))[0]\n",
    "    else:\n",
    "        degs = np.arange(adata.n_vars)\n",
    "        n_top_deg = 'all'\n",
    "\n",
    "    x_true_deg = x_true[:, degs]\n",
    "    x_pred_deg = x_pred[:, degs]\n",
    "    x_ctrl_deg = x_ctrl[:, degs]\n",
    "    \n",
    "\n",
    "    r2_mean_deg = pearsonr(x_true_deg.mean(0) - x_ctrl_deg.mean(0), x_pred_deg.mean(0) - x_ctrl_deg.mean(0))\n",
    "    \n",
    "    r2_var_deg = pearsonr(x_true_deg.var(0) - x_ctrl_deg.var(0), x_pred_deg.var(0) - x_ctrl_deg.var(0))\n",
    "    \n",
    "    r2_results_subtract[str(n_top_deg)] = {}\n",
    "    r2_results_subtract[str(n_top_deg)]['CellDISECT'] = r2_mean_deg[0]\n",
    "\n",
    "    r2_results_subtract[str(n_top_deg)]['CellDISECT_var'] = r2_var_deg[0]\n",
    "    \n",
    "r2_results_subtract = pd.DataFrame.from_dict(r2_results_subtract).T\n",
    "r2_results_subtract"
   ]
  }
 ],
 "metadata": {
  "kernelspec": {
   "display_name": "disect",
   "language": "python",
   "name": "disect"
  },
  "language_info": {
   "codemirror_mode": {
    "name": "ipython",
    "version": 3
   },
   "file_extension": ".py",
   "mimetype": "text/x-python",
   "name": "python",
   "nbconvert_exporter": "python",
   "pygments_lexer": "ipython3",
   "version": "3.9.19"
  }
 },
 "nbformat": 4,
 "nbformat_minor": 5
}
